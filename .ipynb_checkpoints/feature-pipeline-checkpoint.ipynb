{
 "cells": [
  {
   "cell_type": "markdown",
   "id": "5ed0a4a9",
   "metadata": {},
   "source": [
    "## Feature pipeline:"
   ]
  },
  {
   "cell_type": "code",
   "execution_count": 17,
   "id": "4127f243",
   "metadata": {
    "scrolled": true
   },
   "outputs": [
    {
     "data": {
      "text/html": [
       "<pre style=\"white-space:pre;overflow-x:auto;line-height:normal;font-family:Menlo,'DejaVu Sans Mono',consolas,'Courier New',monospace\"><span style=\"color: #000080; text-decoration-color: #000080\">|</span> Creating objects...\n",
       "<span style=\"color: #808080; text-decoration-color: #808080\">└── </span><span style=\"color: #000080; text-decoration-color: #000080\">-</span> Creating f...\n",
       "</pre>\n"
      ],
      "text/plain": [
       "\u001b[34m|\u001b[0m Creating objects...\n",
       "\u001b[38;5;244m└── \u001b[0m\u001b[34m-\u001b[0m Creating f...\n"
      ]
     },
     "metadata": {},
     "output_type": "display_data"
    },
    {
     "data": {
      "text/html": [
       "<pre style=\"white-space:pre;overflow-x:auto;line-height:normal;font-family:Menlo,'DejaVu Sans Mono',consolas,'Courier New',monospace\"></pre>\n"
      ],
      "text/plain": []
     },
     "metadata": {},
     "output_type": "display_data"
    },
    {
     "data": {
      "text/html": [
       "<pre style=\"white-space:pre;overflow-x:auto;line-height:normal;font-family:Menlo,'DejaVu Sans Mono',consolas,'Courier New',monospace\"><span style=\"color: #008000; text-decoration-color: #008000\">✓</span> Created objects.\n",
       "<span style=\"color: #808080; text-decoration-color: #808080\">└── </span><span style=\"color: #008000; text-decoration-color: #008000\">🔨</span> Created f.\n",
       "</pre>\n"
      ],
      "text/plain": [
       "\u001b[32m✓\u001b[0m Created objects.\n",
       "\u001b[38;5;244m└── \u001b[0m\u001b[32m🔨\u001b[0m Created f.\n"
      ]
     },
     "metadata": {},
     "output_type": "display_data"
    },
    {
     "data": {
      "application/vnd.jupyter.widget-view+json": {
       "model_id": "",
       "version_major": 2,
       "version_minor": 0
      },
      "text/plain": [
       "Output()"
      ]
     },
     "metadata": {},
     "output_type": "display_data"
    },
    {
     "data": {
      "text/html": [
       "<pre style=\"white-space:pre;overflow-x:auto;line-height:normal;font-family:Menlo,'DejaVu Sans Mono',consolas,'Courier New',monospace\"><span style=\"color: #000080; text-decoration-color: #000080\"></span></pre>\n"
      ],
      "text/plain": []
     },
     "metadata": {},
     "output_type": "display_data"
    },
    {
     "data": {
      "text/html": [
       "<pre style=\"white-space:pre;overflow-x:auto;line-height:normal;font-family:Menlo,'DejaVu Sans Mono',consolas,'Courier New',monospace\"><span style=\"color: #000080; text-decoration-color: #000080\">Connected. Call `.close()` to terminate connection gracefully.\n",
       "</span></pre>\n"
      ],
      "text/plain": [
       "\u001b[34mConnected. Call `.close()` to terminate connection gracefully.\n",
       "\u001b[0m"
      ]
     },
     "metadata": {},
     "output_type": "display_data"
    },
    {
     "data": {
      "text/html": [
       "<pre style=\"white-space:pre;overflow-x:auto;line-height:normal;font-family:Menlo,'DejaVu Sans Mono',consolas,'Courier New',monospace\"><span style=\"color: #000080; text-decoration-color: #000080\">\n",
       "</span></pre>\n"
      ],
      "text/plain": [
       "\u001b[34m\n",
       "\u001b[0m"
      ]
     },
     "metadata": {},
     "output_type": "display_data"
    },
    {
     "data": {
      "text/html": [
       "<pre style=\"white-space:pre;overflow-x:auto;line-height:normal;font-family:Menlo,'DejaVu Sans Mono',consolas,'Courier New',monospace\"><span style=\"color: #000080; text-decoration-color: #000080\">Logged in to project, explore it here https://c.app.hopsworks.ai:443/p/210071\n",
       "</span></pre>\n"
      ],
      "text/plain": [
       "\u001b[34mLogged in to project, explore it here https://c.app.hopsworks.ai:443/p/210071\n",
       "\u001b[0m"
      ]
     },
     "metadata": {},
     "output_type": "display_data"
    },
    {
     "data": {
      "text/html": [
       "<pre style=\"white-space:pre;overflow-x:auto;line-height:normal;font-family:Menlo,'DejaVu Sans Mono',consolas,'Courier New',monospace\"><span style=\"color: #000080; text-decoration-color: #000080\"></span></pre>\n"
      ],
      "text/plain": []
     },
     "metadata": {},
     "output_type": "display_data"
    },
    {
     "data": {
      "text/html": [
       "<pre style=\"white-space:pre;overflow-x:auto;line-height:normal;font-family:Menlo,'DejaVu Sans Mono',consolas,'Courier New',monospace\"><span style=\"color: #000080; text-decoration-color: #000080\">Connected. Call `.close()` to terminate connection gracefully.\n",
       "</span></pre>\n"
      ],
      "text/plain": [
       "\u001b[34mConnected. Call `.close()` to terminate connection gracefully.\n",
       "\u001b[0m"
      ]
     },
     "metadata": {},
     "output_type": "display_data"
    },
    {
     "data": {
      "text/html": [
       "<pre style=\"white-space:pre;overflow-x:auto;line-height:normal;font-family:Menlo,'DejaVu Sans Mono',consolas,'Courier New',monospace\"><span style=\"color: #000080; text-decoration-color: #000080\">Virginica added\n",
       "</span></pre>\n"
      ],
      "text/plain": [
       "\u001b[34mVirginica added\n",
       "\u001b[0m"
      ]
     },
     "metadata": {},
     "output_type": "display_data"
    },
    {
     "data": {
      "text/html": [
       "<pre style=\"white-space:pre;overflow-x:auto;line-height:normal;font-family:Menlo,'DejaVu Sans Mono',consolas,'Courier New',monospace\"><span style=\"color: #000080; text-decoration-color: #000080\">Feature Group created successfully, explore it at \n",
       "https://c.app.hopsworks.ai:443/p/210071/fs/209990/fg/220526\n",
       "</span></pre>\n"
      ],
      "text/plain": [
       "\u001b[34mFeature Group created successfully, explore it at \n",
       "https://c.app.hopsworks.ai:443/p/210071/fs/209990/fg/220526\n",
       "\u001b[0m"
      ]
     },
     "metadata": {},
     "output_type": "display_data"
    },
    {
     "data": {
      "text/html": [
       "<pre style=\"white-space:pre;overflow-x:auto;line-height:normal;font-family:Menlo,'DejaVu Sans Mono',consolas,'Courier New',monospace\"><span style=\"color: #800000; text-decoration-color: #800000\">\n",
       "</span></pre>\n"
      ],
      "text/plain": [
       "\u001b[31m\n",
       "\u001b[0m"
      ]
     },
     "metadata": {},
     "output_type": "display_data"
    },
    {
     "data": {
      "text/html": [
       "<pre style=\"white-space:pre;overflow-x:auto;line-height:normal;font-family:Menlo,'DejaVu Sans Mono',consolas,'Courier New',monospace\"><span style=\"color: #800000; text-decoration-color: #800000\">\u001b[1AUploading Dataframe: 0.00% |          | Rows 0/1 | Elapsed Time: 00:00 | Remaining Time: ?\n",
       "</span></pre>\n"
      ],
      "text/plain": [
       "\u001b[31m\u001b[1AUploading Dataframe: 0.00% |          | Rows 0/1 | Elapsed Time: 00:00 | Remaining Time: ?\n",
       "\u001b[0m"
      ]
     },
     "metadata": {},
     "output_type": "display_data"
    },
    {
     "data": {
      "text/html": [
       "<pre style=\"white-space:pre;overflow-x:auto;line-height:normal;font-family:Menlo,'DejaVu Sans Mono',consolas,'Courier New',monospace\"><span style=\"color: #800000; text-decoration-color: #800000\">\u001b[1AUploading Dataframe: 100.00% |██████████| Rows 1/1 | Elapsed Time: 00:01 | Remaining Time: 00:00\n",
       "</span></pre>\n"
      ],
      "text/plain": [
       "\u001b[31m\u001b[1AUploading Dataframe: 100.00% |██████████| Rows 1/1 | Elapsed Time: 00:01 | Remaining Time: 00:00\n",
       "\u001b[0m"
      ]
     },
     "metadata": {},
     "output_type": "display_data"
    },
    {
     "data": {
      "text/html": [
       "<pre style=\"white-space:pre;overflow-x:auto;line-height:normal;font-family:Menlo,'DejaVu Sans Mono',consolas,'Courier New',monospace\"><span style=\"color: #800000; text-decoration-color: #800000\">\u001b[1AUploading Dataframe: 100.00% |██████████| Rows 1/1 | Elapsed Time: 00:01 | Remaining Time: 00:00\n",
       "</span></pre>\n"
      ],
      "text/plain": [
       "\u001b[31m\u001b[1AUploading Dataframe: 100.00% |██████████| Rows 1/1 | Elapsed Time: 00:01 | Remaining Time: 00:00\n",
       "\u001b[0m"
      ]
     },
     "metadata": {},
     "output_type": "display_data"
    },
    {
     "data": {
      "text/html": [
       "<pre style=\"white-space:pre;overflow-x:auto;line-height:normal;font-family:Menlo,'DejaVu Sans Mono',consolas,'Courier New',monospace\"><span style=\"color: #000080; text-decoration-color: #000080\">Launching job: iris_modal_1_offline_fg_materialization\n",
       "</span></pre>\n"
      ],
      "text/plain": [
       "\u001b[34mLaunching job: iris_modal_1_offline_fg_materialization\n",
       "\u001b[0m"
      ]
     },
     "metadata": {},
     "output_type": "display_data"
    },
    {
     "data": {
      "text/html": [
       "<pre style=\"white-space:pre;overflow-x:auto;line-height:normal;font-family:Menlo,'DejaVu Sans Mono',consolas,'Courier New',monospace\"><span style=\"color: #000080; text-decoration-color: #000080\">Job started successfully, you can follow the progress at \n",
       "</span></pre>\n"
      ],
      "text/plain": [
       "\u001b[34mJob started successfully, you can follow the progress at \n",
       "\u001b[0m"
      ]
     },
     "metadata": {},
     "output_type": "display_data"
    },
    {
     "data": {
      "text/html": [
       "<pre style=\"white-space:pre;overflow-x:auto;line-height:normal;font-family:Menlo,'DejaVu Sans Mono',consolas,'Courier New',monospace\"><span style=\"color: #000080; text-decoration-color: #000080\">https://c.app.hopsworks.ai/p/210071/jobs/named/iris_modal_1_offline_fg_materialization/executions\n",
       "</span></pre>\n"
      ],
      "text/plain": [
       "\u001b[34mhttps://c.app.hopsworks.ai/p/210071/jobs/named/iris_modal_1_offline_fg_materialization/executions\n",
       "\u001b[0m"
      ]
     },
     "metadata": {},
     "output_type": "display_data"
    },
    {
     "data": {
      "text/html": [
       "<pre style=\"white-space:pre;overflow-x:auto;line-height:normal;font-family:Menlo,'DejaVu Sans Mono',consolas,'Courier New',monospace\"></pre>\n"
      ],
      "text/plain": []
     },
     "metadata": {},
     "output_type": "display_data"
    },
    {
     "data": {
      "text/html": [
       "<pre style=\"white-space:pre;overflow-x:auto;line-height:normal;font-family:Menlo,'DejaVu Sans Mono',consolas,'Courier New',monospace\"><span style=\"color: #008000; text-decoration-color: #008000\">✓</span> App completed.\n",
       "</pre>\n"
      ],
      "text/plain": [
       "\u001b[32m✓\u001b[0m App completed.\n"
      ]
     },
     "metadata": {},
     "output_type": "display_data"
    }
   ],
   "source": [
    "import os\n",
    "import modal\n",
    "    \n",
    "BACKFILL=False\n",
    "LOCAL=False\n",
    "\n",
    "if LOCAL == False:\n",
    "   stub = modal.Stub()\n",
    "   image = modal.Image.debian_slim().pip_install([\"hopsworks\",\"joblib\",\"seaborn\",\"sklearn\",\"dataframe-image\"]) \n",
    "\n",
    "   @stub.function(image=image, schedule=modal.Period(days=1), secret=modal.Secret.from_name(\"HOPSWORKS_API_KEY\"))\n",
    "   def f():\n",
    "       g()\n",
    "\n",
    "\n",
    "def generate_flower(name, sepal_len_max, sepal_len_min, sepal_width_max, sepal_width_min, \n",
    "                    petal_len_max, petal_len_min, petal_width_max, petal_width_min):\n",
    "    \"\"\"\n",
    "    Returns a single iris flower as a single row in a DataFrame\n",
    "    \"\"\"\n",
    "    import pandas as pd\n",
    "    import random\n",
    "\n",
    "    df = pd.DataFrame({ \"sepal_length\": [random.uniform(sepal_len_max, sepal_len_min)],\n",
    "                       \"sepal_width\": [random.uniform(sepal_width_max, sepal_width_min)],\n",
    "                       \"petal_length\": [random.uniform(petal_len_max, petal_len_min)],\n",
    "                       \"petal_width\": [random.uniform(petal_width_max, petal_width_min)]\n",
    "                      })\n",
    "    df['variety'] = name\n",
    "    return df\n",
    "\n",
    "\n",
    "def get_random_iris_flower():\n",
    "    \"\"\"\n",
    "    Returns a DataFrame containing one random iris flower\n",
    "    \"\"\"\n",
    "    import pandas as pd\n",
    "    import random\n",
    "\n",
    "    virginica_df = generate_flower(\"Virginica\", 8, 5.5, 3.8, 2.2, 7, 4.5, 2.5, 1.4)\n",
    "    versicolor_df = generate_flower(\"Versicolor\", 7.5, 4.5, 3.5, 2.1, 3.1, 5.5, 1.8, 1.0)\n",
    "    setosa_df =  generate_flower(\"Setosa\", 6, 4.5, 4.5, 2.3, 1.2, 2, 0.7, 0.3)\n",
    "\n",
    "    # randomly pick one of these 3 and write it to the featurestore\n",
    "    pick_random = random.uniform(0,3)\n",
    "    if pick_random >= 2:\n",
    "        iris_df = virginica_df\n",
    "        print(\"Virginica added\")\n",
    "    elif pick_random >= 1:\n",
    "        iris_df = versicolor_df\n",
    "        print(\"Versicolor added\")\n",
    "    else:\n",
    "        iris_df = setosa_df\n",
    "        print(\"Setosa added\")\n",
    "\n",
    "    return iris_df\n",
    "\n",
    "\n",
    "\n",
    "def g():\n",
    "    import hopsworks\n",
    "    import pandas as pd\n",
    "\n",
    "    project = hopsworks.login()\n",
    "    fs = project.get_feature_store()\n",
    "\n",
    "    if BACKFILL == True:\n",
    "        iris_df = pd.read_csv(\"https://repo.hops.works/master/hopsworks-tutorials/data/iris.csv\")\n",
    "    else:\n",
    "        iris_df = get_random_iris_flower()\n",
    "\n",
    "    iris_fg = fs.get_or_create_feature_group(\n",
    "        name=\"iris_modal\",\n",
    "        version=1,\n",
    "        primary_key=[\"sepal_length\",\"sepal_width\",\"petal_length\",\"petal_width\"], \n",
    "        description=\"Iris flower dataset\")\n",
    "    iris_fg.insert(iris_df, write_options={\"wait_for_job\" : False})\n",
    "\n",
    "if __name__ == \"__main__\":\n",
    "    if LOCAL == True :\n",
    "        g.local()\n",
    "    else:\n",
    "        with stub.run():\n",
    "            f.remote()"
   ]
  },
  {
   "cell_type": "markdown",
   "id": "defe69f8",
   "metadata": {},
   "source": [
    "## Inference pipeline"
   ]
  },
  {
   "cell_type": "code",
   "execution_count": 20,
   "id": "3a822e09",
   "metadata": {},
   "outputs": [
    {
     "name": "stdout",
     "output_type": "stream",
     "text": [
      "Collecting dataframe_image\n",
      "  Downloading dataframe_image-0.2.2-py3-none-any.whl.metadata (8.9 kB)\n",
      "Requirement already satisfied: pandas>=0.24 in c:\\users\\reeth\\miniconda3\\envs\\env\\lib\\site-packages (from dataframe_image) (1.4.4)\n",
      "Requirement already satisfied: nbconvert>=5 in c:\\users\\reeth\\miniconda3\\envs\\env\\lib\\site-packages (from dataframe_image) (6.4.5)\n",
      "Requirement already satisfied: aiohttp in c:\\users\\reeth\\miniconda3\\envs\\env\\lib\\site-packages (from dataframe_image) (3.8.6)\n",
      "Requirement already satisfied: requests in c:\\users\\reeth\\miniconda3\\envs\\env\\lib\\site-packages (from dataframe_image) (2.31.0)\n",
      "Requirement already satisfied: pillow in c:\\users\\reeth\\miniconda3\\envs\\env\\lib\\site-packages (from dataframe_image) (10.0.1)\n",
      "Requirement already satisfied: packaging in c:\\users\\reeth\\miniconda3\\envs\\env\\lib\\site-packages (from dataframe_image) (23.1)\n",
      "Requirement already satisfied: mistune in c:\\users\\reeth\\miniconda3\\envs\\env\\lib\\site-packages (from dataframe_image) (0.8.4)\n",
      "Requirement already satisfied: lxml in c:\\users\\reeth\\miniconda3\\envs\\env\\lib\\site-packages (from dataframe_image) (4.9.3)\n",
      "Requirement already satisfied: beautifulsoup4 in c:\\users\\reeth\\miniconda3\\envs\\env\\lib\\site-packages (from dataframe_image) (4.12.2)\n",
      "Collecting cssutils (from dataframe_image)\n",
      "  Downloading cssutils-2.9.0-py3-none-any.whl.metadata (9.1 kB)\n",
      "Collecting html2image (from dataframe_image)\n",
      "  Downloading html2image-2.0.4.3-py3-none-any.whl.metadata (14 kB)\n",
      "Requirement already satisfied: jinja2>=2.4 in c:\\users\\reeth\\miniconda3\\envs\\env\\lib\\site-packages (from nbconvert>=5->dataframe_image) (2.11.3)\n",
      "Requirement already satisfied: pygments>=2.4.1 in c:\\users\\reeth\\miniconda3\\envs\\env\\lib\\site-packages (from nbconvert>=5->dataframe_image) (2.15.1)\n",
      "Requirement already satisfied: jupyterlab-pygments in c:\\users\\reeth\\miniconda3\\envs\\env\\lib\\site-packages (from nbconvert>=5->dataframe_image) (0.1.2)\n",
      "Requirement already satisfied: traitlets>=5.0 in c:\\users\\reeth\\miniconda3\\envs\\env\\lib\\site-packages (from nbconvert>=5->dataframe_image) (5.13.0)\n",
      "Requirement already satisfied: jupyter-core in c:\\users\\reeth\\miniconda3\\envs\\env\\lib\\site-packages (from nbconvert>=5->dataframe_image) (5.5.0)\n",
      "Requirement already satisfied: nbformat>=4.4 in c:\\users\\reeth\\miniconda3\\envs\\env\\lib\\site-packages (from nbconvert>=5->dataframe_image) (5.9.2)\n",
      "Requirement already satisfied: entrypoints>=0.2.2 in c:\\users\\reeth\\miniconda3\\envs\\env\\lib\\site-packages (from nbconvert>=5->dataframe_image) (0.4)\n",
      "Requirement already satisfied: bleach in c:\\users\\reeth\\miniconda3\\envs\\env\\lib\\site-packages (from nbconvert>=5->dataframe_image) (4.1.0)\n",
      "Requirement already satisfied: pandocfilters>=1.4.1 in c:\\users\\reeth\\miniconda3\\envs\\env\\lib\\site-packages (from nbconvert>=5->dataframe_image) (1.5.0)\n",
      "Requirement already satisfied: testpath in c:\\users\\reeth\\miniconda3\\envs\\env\\lib\\site-packages (from nbconvert>=5->dataframe_image) (0.6.0)\n",
      "Requirement already satisfied: defusedxml in c:\\users\\reeth\\miniconda3\\envs\\env\\lib\\site-packages (from nbconvert>=5->dataframe_image) (0.7.1)\n",
      "Requirement already satisfied: nbclient<0.6.0,>=0.5.0 in c:\\users\\reeth\\miniconda3\\envs\\env\\lib\\site-packages (from nbconvert>=5->dataframe_image) (0.5.13)\n",
      "Requirement already satisfied: MarkupSafe>=2.0 in c:\\users\\reeth\\miniconda3\\envs\\env\\lib\\site-packages (from nbconvert>=5->dataframe_image) (2.0.1)\n",
      "Requirement already satisfied: python-dateutil>=2.8.1 in c:\\users\\reeth\\miniconda3\\envs\\env\\lib\\site-packages (from pandas>=0.24->dataframe_image) (2.8.2)\n",
      "Requirement already satisfied: pytz>=2020.1 in c:\\users\\reeth\\miniconda3\\envs\\env\\lib\\site-packages (from pandas>=0.24->dataframe_image) (2023.3.post1)\n",
      "Requirement already satisfied: numpy>=1.21.0 in c:\\users\\reeth\\miniconda3\\envs\\env\\lib\\site-packages (from pandas>=0.24->dataframe_image) (1.26.2)\n",
      "Requirement already satisfied: attrs>=17.3.0 in c:\\users\\reeth\\miniconda3\\envs\\env\\lib\\site-packages (from aiohttp->dataframe_image) (23.1.0)\n",
      "Requirement already satisfied: charset-normalizer<4.0,>=2.0 in c:\\users\\reeth\\miniconda3\\envs\\env\\lib\\site-packages (from aiohttp->dataframe_image) (2.0.4)\n",
      "Requirement already satisfied: multidict<7.0,>=4.5 in c:\\users\\reeth\\miniconda3\\envs\\env\\lib\\site-packages (from aiohttp->dataframe_image) (6.0.4)\n",
      "Requirement already satisfied: async-timeout<5.0,>=4.0.0a3 in c:\\users\\reeth\\miniconda3\\envs\\env\\lib\\site-packages (from aiohttp->dataframe_image) (4.0.3)\n",
      "Requirement already satisfied: yarl<2.0,>=1.0 in c:\\users\\reeth\\miniconda3\\envs\\env\\lib\\site-packages (from aiohttp->dataframe_image) (1.9.2)\n",
      "Requirement already satisfied: frozenlist>=1.1.1 in c:\\users\\reeth\\miniconda3\\envs\\env\\lib\\site-packages (from aiohttp->dataframe_image) (1.4.0)\n",
      "Requirement already satisfied: aiosignal>=1.1.2 in c:\\users\\reeth\\miniconda3\\envs\\env\\lib\\site-packages (from aiohttp->dataframe_image) (1.3.1)\n",
      "Requirement already satisfied: soupsieve>1.2 in c:\\users\\reeth\\miniconda3\\envs\\env\\lib\\site-packages (from beautifulsoup4->dataframe_image) (2.5)\n",
      "Collecting websocket-client<2.0.0,>=1.0.0 (from html2image->dataframe_image)\n",
      "  Downloading websocket_client-1.6.4-py3-none-any.whl.metadata (7.7 kB)\n",
      "Requirement already satisfied: idna<4,>=2.5 in c:\\users\\reeth\\miniconda3\\envs\\env\\lib\\site-packages (from requests->dataframe_image) (3.4)\n",
      "Requirement already satisfied: urllib3<3,>=1.21.1 in c:\\users\\reeth\\miniconda3\\envs\\env\\lib\\site-packages (from requests->dataframe_image) (1.26.18)\n",
      "Requirement already satisfied: certifi>=2017.4.17 in c:\\users\\reeth\\miniconda3\\envs\\env\\lib\\site-packages (from requests->dataframe_image) (2023.7.22)\n",
      "Requirement already satisfied: jupyter-client>=6.1.5 in c:\\users\\reeth\\miniconda3\\envs\\env\\lib\\site-packages (from nbclient<0.6.0,>=0.5.0->nbconvert>=5->dataframe_image) (8.6.0)\n",
      "Requirement already satisfied: nest-asyncio in c:\\users\\reeth\\miniconda3\\envs\\env\\lib\\site-packages (from nbclient<0.6.0,>=0.5.0->nbconvert>=5->dataframe_image) (1.5.6)\n",
      "Requirement already satisfied: fastjsonschema in c:\\users\\reeth\\miniconda3\\envs\\env\\lib\\site-packages (from nbformat>=4.4->nbconvert>=5->dataframe_image) (2.16.2)\n",
      "Requirement already satisfied: jsonschema>=2.6 in c:\\users\\reeth\\miniconda3\\envs\\env\\lib\\site-packages (from nbformat>=4.4->nbconvert>=5->dataframe_image) (4.19.2)\n",
      "Requirement already satisfied: six>=1.5 in c:\\users\\reeth\\miniconda3\\envs\\env\\lib\\site-packages (from python-dateutil>=2.8.1->pandas>=0.24->dataframe_image) (1.16.0)\n",
      "Requirement already satisfied: webencodings in c:\\users\\reeth\\miniconda3\\envs\\env\\lib\\site-packages (from bleach->nbconvert>=5->dataframe_image) (0.5.1)\n",
      "Requirement already satisfied: platformdirs>=2.5 in c:\\users\\reeth\\miniconda3\\envs\\env\\lib\\site-packages (from jupyter-core->nbconvert>=5->dataframe_image) (3.10.0)\n",
      "Requirement already satisfied: pywin32>=300 in c:\\users\\reeth\\miniconda3\\envs\\env\\lib\\site-packages (from jupyter-core->nbconvert>=5->dataframe_image) (305.1)\n",
      "Requirement already satisfied: jsonschema-specifications>=2023.03.6 in c:\\users\\reeth\\miniconda3\\envs\\env\\lib\\site-packages (from jsonschema>=2.6->nbformat>=4.4->nbconvert>=5->dataframe_image) (2023.7.1)\n",
      "Requirement already satisfied: referencing>=0.28.4 in c:\\users\\reeth\\miniconda3\\envs\\env\\lib\\site-packages (from jsonschema>=2.6->nbformat>=4.4->nbconvert>=5->dataframe_image) (0.30.2)\n",
      "Requirement already satisfied: rpds-py>=0.7.1 in c:\\users\\reeth\\miniconda3\\envs\\env\\lib\\site-packages (from jsonschema>=2.6->nbformat>=4.4->nbconvert>=5->dataframe_image) (0.10.6)\n",
      "Requirement already satisfied: pyzmq>=23.0 in c:\\users\\reeth\\miniconda3\\envs\\env\\lib\\site-packages (from jupyter-client>=6.1.5->nbclient<0.6.0,>=0.5.0->nbconvert>=5->dataframe_image) (25.1.0)\n",
      "Requirement already satisfied: tornado>=6.2 in c:\\users\\reeth\\miniconda3\\envs\\env\\lib\\site-packages (from jupyter-client>=6.1.5->nbclient<0.6.0,>=0.5.0->nbconvert>=5->dataframe_image) (6.3.3)\n",
      "Downloading dataframe_image-0.2.2-py3-none-any.whl (6.7 MB)\n",
      "   ---------------------------------------- 0.0/6.7 MB ? eta -:--:--\n",
      "   ---------------------------------------- 0.0/6.7 MB 960.0 kB/s eta 0:00:07\n",
      "   - -------------------------------------- 0.2/6.7 MB 2.1 MB/s eta 0:00:04\n",
      "   - -------------------------------------- 0.3/6.7 MB 2.2 MB/s eta 0:00:03\n",
      "   -- ------------------------------------- 0.4/6.7 MB 2.1 MB/s eta 0:00:03\n",
      "   --- ------------------------------------ 0.5/6.7 MB 2.3 MB/s eta 0:00:03\n",
      "   --- ------------------------------------ 0.6/6.7 MB 2.3 MB/s eta 0:00:03\n",
      "   ---- ----------------------------------- 0.7/6.7 MB 2.2 MB/s eta 0:00:03\n",
      "   ---- ----------------------------------- 0.8/6.7 MB 2.2 MB/s eta 0:00:03\n",
      "   ----- ---------------------------------- 0.9/6.7 MB 2.3 MB/s eta 0:00:03\n",
      "   ------ --------------------------------- 1.1/6.7 MB 2.3 MB/s eta 0:00:03\n",
      "   ------- -------------------------------- 1.2/6.7 MB 2.4 MB/s eta 0:00:03\n",
      "   ------- -------------------------------- 1.3/6.7 MB 2.3 MB/s eta 0:00:03\n",
      "   -------- ------------------------------- 1.4/6.7 MB 2.3 MB/s eta 0:00:03\n",
      "   --------- ------------------------------ 1.5/6.7 MB 2.3 MB/s eta 0:00:03\n",
      "   --------- ------------------------------ 1.6/6.7 MB 2.4 MB/s eta 0:00:03\n",
      "   ---------- ----------------------------- 1.7/6.7 MB 2.4 MB/s eta 0:00:03\n",
      "   ----------- ---------------------------- 1.9/6.7 MB 2.4 MB/s eta 0:00:03\n",
      "   ----------- ---------------------------- 2.0/6.7 MB 2.4 MB/s eta 0:00:02\n",
      "   ------------ --------------------------- 2.1/6.7 MB 2.4 MB/s eta 0:00:02\n",
      "   ------------- -------------------------- 2.2/6.7 MB 2.4 MB/s eta 0:00:02\n",
      "   ------------- -------------------------- 2.3/6.7 MB 2.4 MB/s eta 0:00:02\n",
      "   -------------- ------------------------- 2.4/6.7 MB 2.4 MB/s eta 0:00:02\n",
      "   --------------- ------------------------ 2.5/6.7 MB 2.4 MB/s eta 0:00:02\n",
      "   --------------- ------------------------ 2.7/6.7 MB 2.4 MB/s eta 0:00:02\n",
      "   ---------------- ----------------------- 2.8/6.7 MB 2.4 MB/s eta 0:00:02\n",
      "   ----------------- ---------------------- 2.9/6.7 MB 2.4 MB/s eta 0:00:02\n",
      "   ----------------- ---------------------- 3.0/6.7 MB 2.4 MB/s eta 0:00:02\n",
      "   ------------------ --------------------- 3.1/6.7 MB 2.4 MB/s eta 0:00:02\n",
      "   ------------------- -------------------- 3.2/6.7 MB 2.4 MB/s eta 0:00:02\n",
      "   -------------------- ------------------- 3.4/6.7 MB 2.4 MB/s eta 0:00:02\n",
      "   -------------------- ------------------- 3.5/6.7 MB 2.4 MB/s eta 0:00:02\n",
      "   --------------------- ------------------ 3.6/6.7 MB 2.4 MB/s eta 0:00:02\n",
      "   ---------------------- ----------------- 3.7/6.7 MB 2.4 MB/s eta 0:00:02\n",
      "   ---------------------- ----------------- 3.8/6.7 MB 2.4 MB/s eta 0:00:02\n",
      "   ----------------------- ---------------- 3.9/6.7 MB 2.4 MB/s eta 0:00:02\n",
      "   ------------------------ --------------- 4.0/6.7 MB 2.4 MB/s eta 0:00:02\n",
      "   ------------------------ --------------- 4.1/6.7 MB 2.4 MB/s eta 0:00:02\n",
      "   ------------------------- -------------- 4.3/6.7 MB 2.4 MB/s eta 0:00:01\n",
      "   -------------------------- ------------- 4.4/6.7 MB 2.4 MB/s eta 0:00:01\n",
      "   --------------------------- ------------ 4.5/6.7 MB 2.4 MB/s eta 0:00:01\n",
      "   --------------------------- ------------ 4.6/6.7 MB 2.4 MB/s eta 0:00:01\n",
      "   ---------------------------- ----------- 4.7/6.7 MB 2.4 MB/s eta 0:00:01\n",
      "   ----------------------------- ---------- 4.9/6.7 MB 2.4 MB/s eta 0:00:01\n",
      "   ----------------------------- ---------- 5.0/6.7 MB 2.4 MB/s eta 0:00:01\n",
      "   ------------------------------ --------- 5.1/6.7 MB 2.4 MB/s eta 0:00:01\n",
      "   ------------------------------- -------- 5.2/6.7 MB 2.4 MB/s eta 0:00:01\n",
      "   ------------------------------- -------- 5.3/6.7 MB 2.4 MB/s eta 0:00:01\n",
      "   -------------------------------- ------- 5.4/6.7 MB 2.5 MB/s eta 0:00:01\n",
      "   --------------------------------- ------ 5.6/6.7 MB 2.5 MB/s eta 0:00:01\n",
      "   ---------------------------------- ----- 5.7/6.7 MB 2.4 MB/s eta 0:00:01\n",
      "   ---------------------------------- ----- 5.8/6.7 MB 2.4 MB/s eta 0:00:01\n",
      "   ----------------------------------- ---- 5.9/6.7 MB 2.5 MB/s eta 0:00:01\n",
      "   ------------------------------------ --- 6.0/6.7 MB 2.5 MB/s eta 0:00:01\n",
      "   ------------------------------------ --- 6.2/6.7 MB 2.5 MB/s eta 0:00:01\n",
      "   ------------------------------------- -- 6.3/6.7 MB 2.5 MB/s eta 0:00:01\n",
      "   -------------------------------------- - 6.4/6.7 MB 2.5 MB/s eta 0:00:01\n",
      "   ---------------------------------------  6.5/6.7 MB 2.5 MB/s eta 0:00:01\n",
      "   ---------------------------------------  6.6/6.7 MB 2.5 MB/s eta 0:00:01\n",
      "   ---------------------------------------- 6.7/6.7 MB 2.4 MB/s eta 0:00:00\n",
      "Downloading cssutils-2.9.0-py3-none-any.whl (398 kB)\n",
      "   ---------------------------------------- 0.0/398.5 kB ? eta -:--:--\n",
      "   ------------ --------------------------- 122.9/398.5 kB 3.6 MB/s eta 0:00:01\n",
      "   ----------------------- ---------------- 235.5/398.5 kB 2.9 MB/s eta 0:00:01\n",
      "   ----------------------------------- ---- 358.4/398.5 kB 2.8 MB/s eta 0:00:01\n",
      "   ---------------------------------------- 398.5/398.5 kB 2.8 MB/s eta 0:00:00\n",
      "Downloading html2image-2.0.4.3-py3-none-any.whl (27 kB)\n",
      "Downloading websocket_client-1.6.4-py3-none-any.whl (57 kB)\n",
      "   ---------------------------------------- 0.0/57.3 kB ? eta -:--:--\n",
      "   ---------------------------------------- 57.3/57.3 kB 1.5 MB/s eta 0:00:00\n",
      "Installing collected packages: websocket-client, cssutils, html2image, dataframe_image\n",
      "  Attempting uninstall: websocket-client\n",
      "    Found existing installation: websocket-client 0.58.0\n",
      "    Uninstalling websocket-client-0.58.0:\n",
      "      Successfully uninstalled websocket-client-0.58.0\n",
      "Successfully installed cssutils-2.9.0 dataframe_image-0.2.2 html2image-2.0.4.3 websocket-client-1.6.4\n"
     ]
    }
   ],
   "source": [
    "!pip install dataframe_image"
   ]
  },
  {
   "cell_type": "code",
   "execution_count": 23,
   "id": "d92ab4a6",
   "metadata": {},
   "outputs": [
    {
     "name": "stdout",
     "output_type": "stream",
     "text": [
      "Connection closed.\n",
      "Connected. Call `.close()` to terminate connection gracefully.\n",
      "\n",
      "Logged in to project, explore it here https://c.app.hopsworks.ai:443/p/210071\n",
      "Connected. Call `.close()` to terminate connection gracefully.\n",
      "Connected. Call `.close()` to terminate connection gracefully.\n",
      "Finished: Reading data from Hopsworks, using ArrowFlight (0.71s) \n",
      "Flower predicted: Setosa\n"
     ]
    },
    {
     "name": "stderr",
     "output_type": "stream",
     "text": [
      "DeprecationWarning: The `ipykernel.comm.Comm` class has been deprecated. Please use the `comm` module instead.For creating comms, use the function `from comm import create_comm`.\n"
     ]
    },
    {
     "data": {
      "application/vnd.jupyter.widget-view+json": {
       "model_id": "60421c8b5d4343fe8e3446a095096d1f",
       "version_major": 2,
       "version_minor": 0
      },
      "text/plain": [
       "Uploading: 0.000%|          | 0/132570 elapsed<00:00 remaining<?"
      ]
     },
     "metadata": {},
     "output_type": "display_data"
    },
    {
     "name": "stdout",
     "output_type": "stream",
     "text": [
      "Finished: Reading data from Hopsworks, using ArrowFlight (0.60s) \n",
      "Flower actual: Setosa\n"
     ]
    },
    {
     "name": "stderr",
     "output_type": "stream",
     "text": [
      "DeprecationWarning: np.find_common_type is deprecated.  Please use `np.result_type` or `np.promote_types`.\n",
      "See https://numpy.org/devdocs/release/1.25.0-notes.html and the docs for more information.  (Deprecated NumPy 1.25)\n",
      "DeprecationWarning: The `ipykernel.comm.Comm` class has been deprecated. Please use the `comm` module instead.For creating comms, use the function `from comm import create_comm`.\n"
     ]
    },
    {
     "data": {
      "application/vnd.jupyter.widget-view+json": {
       "model_id": "eb42bf064c8745b58bc92611fdd05df0",
       "version_major": 2,
       "version_minor": 0
      },
      "text/plain": [
       "Uploading: 0.000%|          | 0/132570 elapsed<00:00 remaining<?"
      ]
     },
     "metadata": {},
     "output_type": "display_data"
    },
    {
     "data": {
      "application/vnd.jupyter.widget-view+json": {
       "model_id": "b4217304362d4e1da7712c0d23d724d5",
       "version_major": 2,
       "version_minor": 0
      },
      "text/plain": [
       "Uploading Dataframe: 0.00% |          | Rows 0/1 | Elapsed Time: 00:00 | Remaining Time: ?"
      ]
     },
     "metadata": {},
     "output_type": "display_data"
    },
    {
     "name": "stdout",
     "output_type": "stream",
     "text": [
      "Launching job: iris_predictions_1_offline_fg_materialization\n",
      "Job started successfully, you can follow the progress at \n",
      "https://c.app.hopsworks.ai/p/210071/jobs/named/iris_predictions_1_offline_fg_materialization/executions\n",
      "Finished: Reading data from Hopsworks, using ArrowFlight (0.57s) \n"
     ]
    },
    {
     "name": "stderr",
     "output_type": "stream",
     "text": [
      "DeprecationWarning: The `ipykernel.comm.Comm` class has been deprecated. Please use the `comm` module instead.For creating comms, use the function `from comm import create_comm`.\n"
     ]
    },
    {
     "data": {
      "application/vnd.jupyter.widget-view+json": {
       "model_id": "2bf99a2c37174a2ebfb62bc2769634de",
       "version_major": 2,
       "version_minor": 0
      },
      "text/plain": [
       "Uploading: 0.000%|          | 0/14792 elapsed<00:00 remaining<?"
      ]
     },
     "metadata": {},
     "output_type": "display_data"
    },
    {
     "name": "stdout",
     "output_type": "stream",
     "text": [
      "Number of different flower predictions to date: 1\n",
      "You need 3 different flower predictions to create the confusion matrix.\n",
      "Run the batch inference pipeline more times until you get 3 different iris flower predictions\n"
     ]
    }
   ],
   "source": [
    "import os\n",
    "import modal\n",
    "    \n",
    "LOCAL=True\n",
    "\n",
    "if LOCAL == False:\n",
    "   stub = modal.Stub()\n",
    "   hopsworks_image = modal.Image.debian_slim().pip_install([\"hopsworks\",\"joblib\",\"seaborn\",\"sklearn==1.1.1\",\"dataframe-image\"])\n",
    "   @stub.function(image=hopsworks_image, schedule=modal.Period(days=1), secret=modal.Secret.from_name(\"HOPSWORKS_API_KEY\"))\n",
    "   def f():\n",
    "       g()\n",
    "\n",
    "def g():\n",
    "    import pandas as pd\n",
    "    import hopsworks\n",
    "    import joblib\n",
    "    import datetime\n",
    "    from PIL import Image\n",
    "    from datetime import datetime\n",
    "    import dataframe_image as dfi\n",
    "    from sklearn.metrics import confusion_matrix\n",
    "    from matplotlib import pyplot\n",
    "    import seaborn as sns\n",
    "    import requests\n",
    "\n",
    "    project = hopsworks.login()\n",
    "    fs = project.get_feature_store()\n",
    "    \n",
    "    mr = project.get_model_registry()\n",
    "    model = mr.get_model(\"iris_model\", version=1)\n",
    "    model_dir = model.download()\n",
    "    model = joblib.load(model_dir + \"/iris_model.pkl\")\n",
    "    \n",
    "    feature_view = fs.get_feature_view(name=\"iris\", version=1)\n",
    "    batch_data = feature_view.get_batch_data()\n",
    "    \n",
    "    y_pred = model.predict(batch_data)\n",
    "    #print(y_pred)\n",
    "    offset = 1\n",
    "    flower = y_pred[y_pred.size-offset]\n",
    "    flower_url = \"https://raw.githubusercontent.com/featurestoreorg/serverless-ml-course/main/src/01-module/assets/\" + flower + \".png\"\n",
    "    print(\"Flower predicted: \" + flower)\n",
    "    img = Image.open(requests.get(flower_url, stream=True).raw)            \n",
    "    img.save(\"./latest_iris.png\")\n",
    "    dataset_api = project.get_dataset_api()    \n",
    "    dataset_api.upload(\"./latest_iris.png\", \"Resources/images\", overwrite=True)\n",
    "   \n",
    "    iris_fg = fs.get_feature_group(name=\"iris\", version=1)\n",
    "    df = iris_fg.read() \n",
    "    #print(df)\n",
    "    label = df.iloc[-offset][\"variety\"]\n",
    "    label_url = \"https://raw.githubusercontent.com/featurestoreorg/serverless-ml-course/main/src/01-module/assets/\" + label + \".png\"\n",
    "    print(\"Flower actual: \" + label)\n",
    "    img = Image.open(requests.get(label_url, stream=True).raw)            \n",
    "    img.save(\"./actual_iris.png\")\n",
    "    dataset_api.upload(\"./actual_iris.png\", \"Resources/images\", overwrite=True)\n",
    "    \n",
    "    monitor_fg = fs.get_or_create_feature_group(name=\"iris_predictions\",\n",
    "                                                version=1,\n",
    "                                                primary_key=[\"datetime\"],\n",
    "                                                description=\"Iris flower Prediction/Outcome Monitoring\"\n",
    "                                                )\n",
    "    \n",
    "    now = datetime.now().strftime(\"%m/%d/%Y, %H:%M:%S\")\n",
    "    data = {\n",
    "        'prediction': [flower],\n",
    "        'label': [label],\n",
    "        'datetime': [now],\n",
    "       }\n",
    "    monitor_df = pd.DataFrame(data)\n",
    "    monitor_fg.insert(monitor_df, write_options={\"wait_for_job\" : False})\n",
    "    \n",
    "    history_df = monitor_fg.read()\n",
    "    # Add our prediction to the history, as the history_df won't have it - \n",
    "    # the insertion was done asynchronously, so it will take ~1 min to land on App\n",
    "    history_df = pd.concat([history_df, monitor_df])\n",
    "\n",
    "\n",
    "    df_recent = history_df.tail(4)\n",
    "    dfi.export(df_recent, './df_recent.png', table_conversion = 'matplotlib')\n",
    "    dataset_api.upload(\"./df_recent.png\", \"Resources/images\", overwrite=True)\n",
    "    \n",
    "    predictions = history_df[['prediction']]\n",
    "    labels = history_df[['label']]\n",
    "\n",
    "    # Only create the confusion matrix when our iris_predictions feature group has examples of all 3 iris flowers\n",
    "    print(\"Number of different flower predictions to date: \" + str(predictions.value_counts().count()))\n",
    "    if predictions.value_counts().count() == 3:\n",
    "        results = confusion_matrix(labels, predictions)\n",
    "    \n",
    "        df_cm = pd.DataFrame(results, ['True Setosa', 'True Versicolor', 'True Virginica'],\n",
    "                             ['Pred Setosa', 'Pred Versicolor', 'Pred Virginica'])\n",
    "    \n",
    "        cm = sns.heatmap(df_cm, annot=True)\n",
    "        fig = cm.get_figure()\n",
    "        fig.savefig(\"./confusion_matrix.png\")\n",
    "        dataset_api.upload(\"./confusion_matrix.png\", \"Resources/images\", overwrite=True)\n",
    "    else:\n",
    "        print(\"You need 3 different flower predictions to create the confusion matrix.\")\n",
    "        print(\"Run the batch inference pipeline more times until you get 3 different iris flower predictions\") \n",
    "\n",
    "\n",
    "if __name__ == \"__main__\":\n",
    "    if LOCAL == True :\n",
    "        g()\n",
    "    else:\n",
    "        with stub.run():\n",
    "            f()\n"
   ]
  },
  {
   "cell_type": "markdown",
   "id": "0c92b7d7",
   "metadata": {},
   "source": [
    "## Hugging face:"
   ]
  },
  {
   "cell_type": "code",
   "execution_count": 24,
   "id": "28833b42",
   "metadata": {
    "scrolled": false
   },
   "outputs": [
    {
     "name": "stdout",
     "output_type": "stream",
     "text": [
      "Collecting gradio\n",
      "  Downloading gradio-4.3.0-py3-none-any.whl.metadata (17 kB)\n",
      "Requirement already satisfied: aiofiles<24.0,>=22.0 in c:\\users\\reeth\\miniconda3\\envs\\env\\lib\\site-packages (from gradio) (22.1.0)\n",
      "Requirement already satisfied: altair<6.0,>=4.2.0 in c:\\users\\reeth\\miniconda3\\envs\\env\\lib\\site-packages (from gradio) (4.2.2)\n",
      "Requirement already satisfied: fastapi in c:\\users\\reeth\\miniconda3\\envs\\env\\lib\\site-packages (from gradio) (0.104.1)\n",
      "Collecting ffmpy (from gradio)\n",
      "  Downloading ffmpy-0.3.1.tar.gz (5.5 kB)\n",
      "  Preparing metadata (setup.py): started\n",
      "  Preparing metadata (setup.py): finished with status 'done'\n",
      "Collecting gradio-client==0.7.0 (from gradio)\n",
      "  Downloading gradio_client-0.7.0-py3-none-any.whl.metadata (7.1 kB)\n",
      "Collecting httpx (from gradio)\n",
      "  Downloading httpx-0.25.1-py3-none-any.whl.metadata (7.1 kB)\n",
      "Collecting huggingface-hub>=0.14.0 (from gradio)\n",
      "  Downloading huggingface_hub-0.19.1-py3-none-any.whl.metadata (13 kB)\n",
      "Collecting importlib-resources<7.0,>=1.3 (from gradio)\n",
      "  Downloading importlib_resources-6.1.1-py3-none-any.whl.metadata (4.1 kB)\n",
      "Requirement already satisfied: jinja2<4.0 in c:\\users\\reeth\\miniconda3\\envs\\env\\lib\\site-packages (from gradio) (2.11.3)\n",
      "Requirement already satisfied: markupsafe~=2.0 in c:\\users\\reeth\\miniconda3\\envs\\env\\lib\\site-packages (from gradio) (2.0.1)\n",
      "Requirement already satisfied: matplotlib~=3.0 in c:\\users\\reeth\\miniconda3\\envs\\env\\lib\\site-packages (from gradio) (3.8.0)\n",
      "Requirement already satisfied: numpy~=1.0 in c:\\users\\reeth\\miniconda3\\envs\\env\\lib\\site-packages (from gradio) (1.26.2)\n",
      "Collecting orjson~=3.0 (from gradio)\n",
      "  Downloading orjson-3.9.10-cp310-none-win_amd64.whl.metadata (50 kB)\n",
      "     ---------------------------------------- 0.0/50.5 kB ? eta -:--:--\n",
      "     ---------------------------------------- 50.5/50.5 kB 1.3 MB/s eta 0:00:00\n",
      "Requirement already satisfied: packaging in c:\\users\\reeth\\miniconda3\\envs\\env\\lib\\site-packages (from gradio) (23.1)\n",
      "Requirement already satisfied: pandas<3.0,>=1.0 in c:\\users\\reeth\\miniconda3\\envs\\env\\lib\\site-packages (from gradio) (1.4.4)\n",
      "Requirement already satisfied: pillow<11.0,>=8.0 in c:\\users\\reeth\\miniconda3\\envs\\env\\lib\\site-packages (from gradio) (10.0.1)\n",
      "Requirement already satisfied: pydantic>=2.0 in c:\\users\\reeth\\miniconda3\\envs\\env\\lib\\site-packages (from gradio) (2.5.0)\n",
      "Collecting pydub (from gradio)\n",
      "  Downloading pydub-0.25.1-py2.py3-none-any.whl (32 kB)\n",
      "Collecting python-multipart (from gradio)\n",
      "  Downloading python_multipart-0.0.6-py3-none-any.whl (45 kB)\n",
      "     ---------------------------------------- 0.0/45.7 kB ? eta -:--:--\n",
      "     ---------------------------------------- 45.7/45.7 kB 2.2 MB/s eta 0:00:00\n",
      "Requirement already satisfied: pyyaml<7.0,>=5.0 in c:\\users\\reeth\\miniconda3\\envs\\env\\lib\\site-packages (from gradio) (6.0.1)\n",
      "Requirement already satisfied: requests~=2.0 in c:\\users\\reeth\\miniconda3\\envs\\env\\lib\\site-packages (from gradio) (2.31.0)\n",
      "Collecting semantic-version~=2.0 (from gradio)\n",
      "  Downloading semantic_version-2.10.0-py2.py3-none-any.whl (15 kB)\n",
      "Collecting tomlkit==0.12.0 (from gradio)\n",
      "  Downloading tomlkit-0.12.0-py3-none-any.whl.metadata (2.7 kB)\n",
      "Requirement already satisfied: typer<1.0,>=0.9 in c:\\users\\reeth\\miniconda3\\envs\\env\\lib\\site-packages (from typer[all]<1.0,>=0.9->gradio) (0.9.0)\n",
      "Requirement already satisfied: typing-extensions~=4.0 in c:\\users\\reeth\\miniconda3\\envs\\env\\lib\\site-packages (from gradio) (4.8.0)\n",
      "Collecting uvicorn>=0.14.0 (from gradio)\n",
      "  Downloading uvicorn-0.24.0.post1-py3-none-any.whl.metadata (6.4 kB)\n",
      "Requirement already satisfied: fsspec in c:\\users\\reeth\\miniconda3\\envs\\env\\lib\\site-packages (from gradio-client==0.7.0->gradio) (2023.10.0)\n",
      "Collecting websockets<12.0,>=10.0 (from gradio-client==0.7.0->gradio)\n",
      "  Downloading websockets-11.0.3-cp310-cp310-win_amd64.whl (124 kB)\n",
      "     ---------------------------------------- 0.0/124.7 kB ? eta -:--:--\n",
      "     ---------------------------------- --- 112.6/124.7 kB 2.2 MB/s eta 0:00:01\n",
      "     -------------------------------------- 124.7/124.7 kB 1.8 MB/s eta 0:00:00\n",
      "Requirement already satisfied: entrypoints in c:\\users\\reeth\\miniconda3\\envs\\env\\lib\\site-packages (from altair<6.0,>=4.2.0->gradio) (0.4)\n",
      "Requirement already satisfied: jsonschema>=3.0 in c:\\users\\reeth\\miniconda3\\envs\\env\\lib\\site-packages (from altair<6.0,>=4.2.0->gradio) (4.19.2)\n",
      "Requirement already satisfied: toolz in c:\\users\\reeth\\miniconda3\\envs\\env\\lib\\site-packages (from altair<6.0,>=4.2.0->gradio) (0.12.0)\n",
      "Collecting filelock (from huggingface-hub>=0.14.0->gradio)\n",
      "  Downloading filelock-3.13.1-py3-none-any.whl.metadata (2.8 kB)\n",
      "Requirement already satisfied: tqdm>=4.42.1 in c:\\users\\reeth\\miniconda3\\envs\\env\\lib\\site-packages (from huggingface-hub>=0.14.0->gradio) (4.66.1)\n",
      "Requirement already satisfied: contourpy>=1.0.1 in c:\\users\\reeth\\miniconda3\\envs\\env\\lib\\site-packages (from matplotlib~=3.0->gradio) (1.0.5)\n",
      "Requirement already satisfied: cycler>=0.10 in c:\\users\\reeth\\miniconda3\\envs\\env\\lib\\site-packages (from matplotlib~=3.0->gradio) (0.11.0)\n",
      "Requirement already satisfied: fonttools>=4.22.0 in c:\\users\\reeth\\miniconda3\\envs\\env\\lib\\site-packages (from matplotlib~=3.0->gradio) (4.25.0)\n",
      "Requirement already satisfied: kiwisolver>=1.0.1 in c:\\users\\reeth\\miniconda3\\envs\\env\\lib\\site-packages (from matplotlib~=3.0->gradio) (1.4.4)\n",
      "Requirement already satisfied: pyparsing>=2.3.1 in c:\\users\\reeth\\miniconda3\\envs\\env\\lib\\site-packages (from matplotlib~=3.0->gradio) (2.4.7)\n",
      "Requirement already satisfied: python-dateutil>=2.7 in c:\\users\\reeth\\miniconda3\\envs\\env\\lib\\site-packages (from matplotlib~=3.0->gradio) (2.8.2)\n",
      "Requirement already satisfied: pytz>=2020.1 in c:\\users\\reeth\\miniconda3\\envs\\env\\lib\\site-packages (from pandas<3.0,>=1.0->gradio) (2023.3.post1)\n",
      "Requirement already satisfied: annotated-types>=0.4.0 in c:\\users\\reeth\\miniconda3\\envs\\env\\lib\\site-packages (from pydantic>=2.0->gradio) (0.6.0)\n",
      "Requirement already satisfied: pydantic-core==2.14.1 in c:\\users\\reeth\\miniconda3\\envs\\env\\lib\\site-packages (from pydantic>=2.0->gradio) (2.14.1)\n",
      "Requirement already satisfied: charset-normalizer<4,>=2 in c:\\users\\reeth\\miniconda3\\envs\\env\\lib\\site-packages (from requests~=2.0->gradio) (2.0.4)\n",
      "Requirement already satisfied: idna<4,>=2.5 in c:\\users\\reeth\\miniconda3\\envs\\env\\lib\\site-packages (from requests~=2.0->gradio) (3.4)\n",
      "Requirement already satisfied: urllib3<3,>=1.21.1 in c:\\users\\reeth\\miniconda3\\envs\\env\\lib\\site-packages (from requests~=2.0->gradio) (1.26.18)\n",
      "Requirement already satisfied: certifi>=2017.4.17 in c:\\users\\reeth\\miniconda3\\envs\\env\\lib\\site-packages (from requests~=2.0->gradio) (2023.7.22)\n",
      "Requirement already satisfied: click<9.0.0,>=7.1.1 in c:\\users\\reeth\\miniconda3\\envs\\env\\lib\\site-packages (from typer<1.0,>=0.9->typer[all]<1.0,>=0.9->gradio) (8.1.7)\n",
      "Requirement already satisfied: colorama<0.5.0,>=0.4.3 in c:\\users\\reeth\\miniconda3\\envs\\env\\lib\\site-packages (from typer[all]<1.0,>=0.9->gradio) (0.4.6)\n",
      "Collecting shellingham<2.0.0,>=1.3.0 (from typer[all]<1.0,>=0.9->gradio)\n",
      "  Downloading shellingham-1.5.4-py2.py3-none-any.whl.metadata (3.5 kB)\n",
      "Requirement already satisfied: rich<14.0.0,>=10.11.0 in c:\\users\\reeth\\miniconda3\\envs\\env\\lib\\site-packages (from typer[all]<1.0,>=0.9->gradio) (13.6.0)\n",
      "Collecting h11>=0.8 (from uvicorn>=0.14.0->gradio)\n",
      "  Downloading h11-0.14.0-py3-none-any.whl (58 kB)\n",
      "     ---------------------------------------- 0.0/58.3 kB ? eta -:--:--\n",
      "     ---------------------------------------- 58.3/58.3 kB 1.5 MB/s eta 0:00:00\n",
      "Requirement already satisfied: anyio<4.0.0,>=3.7.1 in c:\\users\\reeth\\miniconda3\\envs\\env\\lib\\site-packages (from fastapi->gradio) (3.7.1)\n",
      "Requirement already satisfied: starlette<0.28.0,>=0.27.0 in c:\\users\\reeth\\miniconda3\\envs\\env\\lib\\site-packages (from fastapi->gradio) (0.27.0)\n",
      "Collecting httpcore (from httpx->gradio)\n",
      "  Downloading httpcore-1.0.2-py3-none-any.whl.metadata (20 kB)\n",
      "Requirement already satisfied: sniffio in c:\\users\\reeth\\miniconda3\\envs\\env\\lib\\site-packages (from httpx->gradio) (1.2.0)\n",
      "Requirement already satisfied: exceptiongroup in c:\\users\\reeth\\miniconda3\\envs\\env\\lib\\site-packages (from anyio<4.0.0,>=3.7.1->fastapi->gradio) (1.0.4)\n",
      "Requirement already satisfied: attrs>=22.2.0 in c:\\users\\reeth\\miniconda3\\envs\\env\\lib\\site-packages (from jsonschema>=3.0->altair<6.0,>=4.2.0->gradio) (23.1.0)\n",
      "Requirement already satisfied: jsonschema-specifications>=2023.03.6 in c:\\users\\reeth\\miniconda3\\envs\\env\\lib\\site-packages (from jsonschema>=3.0->altair<6.0,>=4.2.0->gradio) (2023.7.1)\n",
      "Requirement already satisfied: referencing>=0.28.4 in c:\\users\\reeth\\miniconda3\\envs\\env\\lib\\site-packages (from jsonschema>=3.0->altair<6.0,>=4.2.0->gradio) (0.30.2)\n",
      "Requirement already satisfied: rpds-py>=0.7.1 in c:\\users\\reeth\\miniconda3\\envs\\env\\lib\\site-packages (from jsonschema>=3.0->altair<6.0,>=4.2.0->gradio) (0.10.6)\n",
      "Requirement already satisfied: six>=1.5 in c:\\users\\reeth\\miniconda3\\envs\\env\\lib\\site-packages (from python-dateutil>=2.7->matplotlib~=3.0->gradio) (1.16.0)\n",
      "Requirement already satisfied: markdown-it-py>=2.2.0 in c:\\users\\reeth\\miniconda3\\envs\\env\\lib\\site-packages (from rich<14.0.0,>=10.11.0->typer[all]<1.0,>=0.9->gradio) (3.0.0)\n",
      "Requirement already satisfied: pygments<3.0.0,>=2.13.0 in c:\\users\\reeth\\miniconda3\\envs\\env\\lib\\site-packages (from rich<14.0.0,>=10.11.0->typer[all]<1.0,>=0.9->gradio) (2.15.1)\n",
      "Requirement already satisfied: mdurl~=0.1 in c:\\users\\reeth\\miniconda3\\envs\\env\\lib\\site-packages (from markdown-it-py>=2.2.0->rich<14.0.0,>=10.11.0->typer[all]<1.0,>=0.9->gradio) (0.1.2)\n",
      "Downloading gradio-4.3.0-py3-none-any.whl (15.4 MB)\n",
      "   ---------------------------------------- 0.0/15.4 MB ? eta -:--:--\n",
      "   ---------------------------------------- 0.1/15.4 MB 2.6 MB/s eta 0:00:06\n",
      "    --------------------------------------- 0.2/15.4 MB 2.8 MB/s eta 0:00:06\n",
      "    --------------------------------------- 0.3/15.4 MB 2.5 MB/s eta 0:00:07\n",
      "   - -------------------------------------- 0.5/15.4 MB 2.6 MB/s eta 0:00:06\n",
      "   - -------------------------------------- 0.6/15.4 MB 2.5 MB/s eta 0:00:06\n",
      "   - -------------------------------------- 0.7/15.4 MB 2.5 MB/s eta 0:00:06\n",
      "   -- ------------------------------------- 0.8/15.4 MB 2.6 MB/s eta 0:00:06\n",
      "   -- ------------------------------------- 0.9/15.4 MB 2.5 MB/s eta 0:00:06\n",
      "   -- ------------------------------------- 1.1/15.4 MB 2.6 MB/s eta 0:00:06\n",
      "   --- ------------------------------------ 1.2/15.4 MB 2.6 MB/s eta 0:00:06\n",
      "   --- ------------------------------------ 1.3/15.4 MB 2.6 MB/s eta 0:00:06\n",
      "   --- ------------------------------------ 1.4/15.4 MB 2.5 MB/s eta 0:00:06\n",
      "   --- ------------------------------------ 1.5/15.4 MB 2.6 MB/s eta 0:00:06\n",
      "   ---- ----------------------------------- 1.6/15.4 MB 2.5 MB/s eta 0:00:06\n",
      "   ---- ----------------------------------- 1.8/15.4 MB 2.5 MB/s eta 0:00:06\n",
      "   ---- ----------------------------------- 1.9/15.4 MB 2.6 MB/s eta 0:00:06\n",
      "   ----- ---------------------------------- 2.0/15.4 MB 2.6 MB/s eta 0:00:06\n",
      "   ----- ---------------------------------- 2.1/15.4 MB 2.6 MB/s eta 0:00:06\n",
      "   ----- ---------------------------------- 2.2/15.4 MB 2.6 MB/s eta 0:00:06\n",
      "   ------ --------------------------------- 2.4/15.4 MB 2.6 MB/s eta 0:00:06\n",
      "   ------ --------------------------------- 2.5/15.4 MB 2.6 MB/s eta 0:00:05\n",
      "   ------ --------------------------------- 2.6/15.4 MB 2.5 MB/s eta 0:00:06\n",
      "   ------- -------------------------------- 2.7/15.4 MB 2.6 MB/s eta 0:00:05\n",
      "   ------- -------------------------------- 2.8/15.4 MB 2.5 MB/s eta 0:00:05\n",
      "   ------- -------------------------------- 2.9/15.4 MB 2.6 MB/s eta 0:00:05\n",
      "   ------- -------------------------------- 3.0/15.4 MB 2.6 MB/s eta 0:00:05\n",
      "   -------- ------------------------------- 3.1/15.4 MB 2.5 MB/s eta 0:00:05\n",
      "   -------- ------------------------------- 3.3/15.4 MB 2.5 MB/s eta 0:00:05\n",
      "   -------- ------------------------------- 3.4/15.4 MB 2.5 MB/s eta 0:00:05\n",
      "   --------- ------------------------------ 3.5/15.4 MB 2.5 MB/s eta 0:00:05\n",
      "   --------- ------------------------------ 3.6/15.4 MB 2.5 MB/s eta 0:00:05\n",
      "   --------- ------------------------------ 3.7/15.4 MB 2.5 MB/s eta 0:00:05\n",
      "   --------- ------------------------------ 3.8/15.4 MB 2.5 MB/s eta 0:00:05\n",
      "   ---------- ----------------------------- 3.9/15.4 MB 2.5 MB/s eta 0:00:05\n",
      "   ---------- ----------------------------- 4.0/15.4 MB 2.5 MB/s eta 0:00:05\n",
      "   ---------- ----------------------------- 4.1/15.4 MB 2.5 MB/s eta 0:00:05\n",
      "   ----------- ---------------------------- 4.3/15.4 MB 2.5 MB/s eta 0:00:05\n",
      "   ----------- ---------------------------- 4.4/15.4 MB 2.5 MB/s eta 0:00:05\n",
      "   ----------- ---------------------------- 4.5/15.4 MB 2.5 MB/s eta 0:00:05\n",
      "   ----------- ---------------------------- 4.6/15.4 MB 2.5 MB/s eta 0:00:05\n",
      "   ------------ --------------------------- 4.7/15.4 MB 2.5 MB/s eta 0:00:05\n",
      "   ------------ --------------------------- 4.8/15.4 MB 2.5 MB/s eta 0:00:05\n",
      "   ------------ --------------------------- 5.0/15.4 MB 2.5 MB/s eta 0:00:05\n",
      "   ------------- -------------------------- 5.1/15.4 MB 2.5 MB/s eta 0:00:05\n",
      "   ------------- -------------------------- 5.2/15.4 MB 2.5 MB/s eta 0:00:05\n",
      "   ------------- -------------------------- 5.3/15.4 MB 2.5 MB/s eta 0:00:05\n",
      "   -------------- ------------------------- 5.4/15.4 MB 2.5 MB/s eta 0:00:04\n",
      "   -------------- ------------------------- 5.6/15.4 MB 2.5 MB/s eta 0:00:04\n",
      "   -------------- ------------------------- 5.7/15.4 MB 2.5 MB/s eta 0:00:04\n",
      "   --------------- ------------------------ 5.8/15.4 MB 2.5 MB/s eta 0:00:04\n",
      "   --------------- ------------------------ 5.9/15.4 MB 2.5 MB/s eta 0:00:04\n",
      "   --------------- ------------------------ 6.1/15.4 MB 2.5 MB/s eta 0:00:04\n",
      "   ---------------- ----------------------- 6.2/15.4 MB 2.5 MB/s eta 0:00:04\n",
      "   ---------------- ----------------------- 6.3/15.4 MB 2.5 MB/s eta 0:00:04\n",
      "   ---------------- ----------------------- 6.4/15.4 MB 2.5 MB/s eta 0:00:04\n",
      "   ---------------- ----------------------- 6.5/15.4 MB 2.5 MB/s eta 0:00:04\n",
      "   ----------------- ---------------------- 6.7/15.4 MB 2.5 MB/s eta 0:00:04\n",
      "   ----------------- ---------------------- 6.8/15.4 MB 2.5 MB/s eta 0:00:04\n",
      "   ----------------- ---------------------- 6.9/15.4 MB 2.5 MB/s eta 0:00:04\n",
      "   ------------------ --------------------- 7.1/15.4 MB 2.5 MB/s eta 0:00:04\n",
      "   ------------------ --------------------- 7.2/15.4 MB 2.5 MB/s eta 0:00:04\n",
      "   ------------------ --------------------- 7.3/15.4 MB 2.5 MB/s eta 0:00:04\n",
      "   ------------------- -------------------- 7.4/15.4 MB 2.5 MB/s eta 0:00:04\n",
      "   ------------------- -------------------- 7.5/15.4 MB 2.5 MB/s eta 0:00:04\n",
      "   ------------------- -------------------- 7.6/15.4 MB 2.5 MB/s eta 0:00:04\n",
      "   -------------------- ------------------- 7.8/15.4 MB 2.5 MB/s eta 0:00:04\n",
      "   -------------------- ------------------- 7.9/15.4 MB 2.5 MB/s eta 0:00:03\n",
      "   -------------------- ------------------- 8.0/15.4 MB 2.5 MB/s eta 0:00:03\n",
      "   --------------------- ------------------ 8.1/15.4 MB 2.5 MB/s eta 0:00:03\n",
      "   --------------------- ------------------ 8.2/15.4 MB 2.5 MB/s eta 0:00:03\n",
      "   --------------------- ------------------ 8.4/15.4 MB 2.5 MB/s eta 0:00:03\n",
      "   ---------------------- ----------------- 8.5/15.4 MB 2.5 MB/s eta 0:00:03\n",
      "   ---------------------- ----------------- 8.6/15.4 MB 2.5 MB/s eta 0:00:03\n",
      "   ---------------------- ----------------- 8.8/15.4 MB 2.6 MB/s eta 0:00:03\n",
      "   ----------------------- ---------------- 8.9/15.4 MB 2.5 MB/s eta 0:00:03\n",
      "   ----------------------- ---------------- 9.0/15.4 MB 2.6 MB/s eta 0:00:03\n",
      "   ----------------------- ---------------- 9.1/15.4 MB 2.5 MB/s eta 0:00:03\n",
      "   ----------------------- ---------------- 9.2/15.4 MB 2.6 MB/s eta 0:00:03\n",
      "   ------------------------ --------------- 9.4/15.4 MB 2.6 MB/s eta 0:00:03\n",
      "   ------------------------ --------------- 9.5/15.4 MB 2.6 MB/s eta 0:00:03\n",
      "   ------------------------ --------------- 9.6/15.4 MB 2.6 MB/s eta 0:00:03\n",
      "   ------------------------- -------------- 9.7/15.4 MB 2.6 MB/s eta 0:00:03\n",
      "   ------------------------- -------------- 9.8/15.4 MB 2.6 MB/s eta 0:00:03\n",
      "   ------------------------- -------------- 9.9/15.4 MB 2.6 MB/s eta 0:00:03\n",
      "   -------------------------- ------------- 10.0/15.4 MB 2.5 MB/s eta 0:00:03\n",
      "   -------------------------- ------------- 10.2/15.4 MB 2.5 MB/s eta 0:00:03\n",
      "   -------------------------- ------------- 10.3/15.4 MB 2.5 MB/s eta 0:00:03\n",
      "   --------------------------- ------------ 10.4/15.4 MB 2.5 MB/s eta 0:00:02\n",
      "   --------------------------- ------------ 10.5/15.4 MB 2.5 MB/s eta 0:00:02\n",
      "   --------------------------- ------------ 10.7/15.4 MB 2.5 MB/s eta 0:00:02\n",
      "   --------------------------- ------------ 10.8/15.4 MB 2.5 MB/s eta 0:00:02\n",
      "   ---------------------------- ----------- 10.9/15.4 MB 2.5 MB/s eta 0:00:02\n",
      "   ---------------------------- ----------- 11.0/15.4 MB 2.5 MB/s eta 0:00:02\n",
      "   ---------------------------- ----------- 11.1/15.4 MB 2.5 MB/s eta 0:00:02\n",
      "   ----------------------------- ---------- 11.3/15.4 MB 2.5 MB/s eta 0:00:02\n",
      "   ----------------------------- ---------- 11.4/15.4 MB 2.5 MB/s eta 0:00:02\n",
      "   ----------------------------- ---------- 11.5/15.4 MB 2.6 MB/s eta 0:00:02\n",
      "   ------------------------------ --------- 11.6/15.4 MB 2.5 MB/s eta 0:00:02\n",
      "   ------------------------------ --------- 11.7/15.4 MB 2.5 MB/s eta 0:00:02\n",
      "   ------------------------------ --------- 11.8/15.4 MB 2.6 MB/s eta 0:00:02\n",
      "   ------------------------------- -------- 12.0/15.4 MB 2.5 MB/s eta 0:00:02\n",
      "   ------------------------------- -------- 12.1/15.4 MB 2.5 MB/s eta 0:00:02\n",
      "   ------------------------------- -------- 12.2/15.4 MB 2.5 MB/s eta 0:00:02\n",
      "   ------------------------------- -------- 12.3/15.4 MB 2.5 MB/s eta 0:00:02\n",
      "   -------------------------------- ------- 12.5/15.4 MB 2.5 MB/s eta 0:00:02\n",
      "   -------------------------------- ------- 12.6/15.4 MB 2.5 MB/s eta 0:00:02\n",
      "   -------------------------------- ------- 12.7/15.4 MB 2.5 MB/s eta 0:00:02\n",
      "   --------------------------------- ------ 12.8/15.4 MB 2.5 MB/s eta 0:00:02\n",
      "   --------------------------------- ------ 12.9/15.4 MB 2.5 MB/s eta 0:00:01\n",
      "   --------------------------------- ------ 13.1/15.4 MB 2.6 MB/s eta 0:00:01\n",
      "   ---------------------------------- ----- 13.2/15.4 MB 2.6 MB/s eta 0:00:01\n",
      "   ---------------------------------- ----- 13.3/15.4 MB 2.6 MB/s eta 0:00:01\n",
      "   ---------------------------------- ----- 13.4/15.4 MB 2.6 MB/s eta 0:00:01\n",
      "   ----------------------------------- ---- 13.6/15.4 MB 2.6 MB/s eta 0:00:01\n",
      "   ----------------------------------- ---- 13.7/15.4 MB 2.6 MB/s eta 0:00:01\n",
      "   ----------------------------------- ---- 13.8/15.4 MB 2.6 MB/s eta 0:00:01\n",
      "   ------------------------------------ --- 13.9/15.4 MB 2.6 MB/s eta 0:00:01\n",
      "   ------------------------------------ --- 14.0/15.4 MB 2.6 MB/s eta 0:00:01\n",
      "   ------------------------------------ --- 14.1/15.4 MB 2.6 MB/s eta 0:00:01\n",
      "   ------------------------------------ --- 14.3/15.4 MB 2.6 MB/s eta 0:00:01\n",
      "   ------------------------------------- -- 14.4/15.4 MB 2.6 MB/s eta 0:00:01\n",
      "   ------------------------------------- -- 14.5/15.4 MB 2.6 MB/s eta 0:00:01\n",
      "   ------------------------------------- -- 14.6/15.4 MB 2.6 MB/s eta 0:00:01\n",
      "   -------------------------------------- - 14.7/15.4 MB 2.6 MB/s eta 0:00:01\n",
      "   -------------------------------------- - 14.9/15.4 MB 2.6 MB/s eta 0:00:01\n",
      "   -------------------------------------- - 15.0/15.4 MB 2.6 MB/s eta 0:00:01\n",
      "   ---------------------------------------  15.1/15.4 MB 2.6 MB/s eta 0:00:01\n",
      "   ---------------------------------------  15.2/15.4 MB 2.6 MB/s eta 0:00:01\n",
      "   ---------------------------------------  15.3/15.4 MB 2.6 MB/s eta 0:00:01\n",
      "   ---------------------------------------  15.4/15.4 MB 2.6 MB/s eta 0:00:01\n",
      "   ---------------------------------------- 15.4/15.4 MB 2.6 MB/s eta 0:00:00\n",
      "Downloading gradio_client-0.7.0-py3-none-any.whl (302 kB)\n",
      "   ---------------------------------------- 0.0/302.7 kB ? eta -:--:--\n",
      "   -------------- ------------------------- 112.6/302.7 kB 3.3 MB/s eta 0:00:01\n",
      "   ----------------------------- ---------- 225.3/302.7 kB 2.8 MB/s eta 0:00:01\n",
      "   ---------------------------------------- 302.7/302.7 kB 2.7 MB/s eta 0:00:00\n",
      "Downloading tomlkit-0.12.0-py3-none-any.whl (37 kB)\n",
      "Downloading huggingface_hub-0.19.1-py3-none-any.whl (311 kB)\n",
      "   ---------------------------------------- 0.0/311.1 kB ? eta -:--:--\n",
      "   -------------- ------------------------- 112.6/311.1 kB 2.2 MB/s eta 0:00:01\n",
      "   ---------------------------- ----------- 225.3/311.1 kB 2.3 MB/s eta 0:00:01\n",
      "   ---------------------------------------- 311.1/311.1 kB 2.4 MB/s eta 0:00:00\n",
      "Downloading importlib_resources-6.1.1-py3-none-any.whl (33 kB)\n",
      "Downloading orjson-3.9.10-cp310-none-win_amd64.whl (135 kB)\n",
      "   ---------------------------------------- 0.0/135.0 kB ? eta -:--:--\n",
      "   ------------------------------------ --- 122.9/135.0 kB 3.5 MB/s eta 0:00:01\n",
      "   ---------------------------------------- 135.0/135.0 kB 2.7 MB/s eta 0:00:00\n",
      "Downloading uvicorn-0.24.0.post1-py3-none-any.whl (59 kB)\n",
      "   ---------------------------------------- 0.0/59.7 kB ? eta -:--:--\n",
      "   ---------------------------------------- 59.7/59.7 kB 3.1 MB/s eta 0:00:00\n",
      "Downloading httpx-0.25.1-py3-none-any.whl (75 kB)\n",
      "   ---------------------------------------- 0.0/75.0 kB ? eta -:--:--\n",
      "   ---------------------------------------- 75.0/75.0 kB 2.1 MB/s eta 0:00:00\n",
      "Downloading shellingham-1.5.4-py2.py3-none-any.whl (9.8 kB)\n",
      "Downloading filelock-3.13.1-py3-none-any.whl (11 kB)\n",
      "Downloading httpcore-1.0.2-py3-none-any.whl (76 kB)\n",
      "   ---------------------------------------- 0.0/76.9 kB ? eta -:--:--\n",
      "   ---------------------------------------- 76.9/76.9 kB 2.2 MB/s eta 0:00:00\n",
      "Building wheels for collected packages: ffmpy\n",
      "  Building wheel for ffmpy (setup.py): started\n",
      "  Building wheel for ffmpy (setup.py): finished with status 'done'\n",
      "  Created wheel for ffmpy: filename=ffmpy-0.3.1-py3-none-any.whl size=5601 sha256=dc233076885f587531ef5ccb1fbc61998bb38e6a56fecbe6ea1d7b9b5637e602\n",
      "  Stored in directory: c:\\users\\reeth\\appdata\\local\\pip\\cache\\wheels\\01\\a6\\d1\\1c0828c304a4283b2c1639a09ad86f83d7c487ef34c6b4a1bf\n",
      "Successfully built ffmpy\n",
      "Installing collected packages: pydub, ffmpy, websockets, tomlkit, shellingham, semantic-version, python-multipart, orjson, importlib-resources, h11, filelock, uvicorn, huggingface-hub, httpcore, httpx, gradio-client, gradio\n",
      "Successfully installed ffmpy-0.3.1 filelock-3.13.1 gradio-4.3.0 gradio-client-0.7.0 h11-0.14.0 httpcore-1.0.2 httpx-0.25.1 huggingface-hub-0.19.1 importlib-resources-6.1.1 orjson-3.9.10 pydub-0.25.1 python-multipart-0.0.6 semantic-version-2.10.0 shellingham-1.5.4 tomlkit-0.12.0 uvicorn-0.24.0.post1 websockets-11.0.3\n"
     ]
    }
   ],
   "source": [
    "!pip install gradio"
   ]
  },
  {
   "cell_type": "code",
   "execution_count": 29,
   "id": "3617f48a",
   "metadata": {},
   "outputs": [
    {
     "name": "stdout",
     "output_type": "stream",
     "text": [
      "Requirement already satisfied: gradio in c:\\users\\reeth\\miniconda3\\envs\\env\\lib\\site-packages (4.3.0)\n",
      "Requirement already satisfied: aiofiles<24.0,>=22.0 in c:\\users\\reeth\\miniconda3\\envs\\env\\lib\\site-packages (from gradio) (22.1.0)\n",
      "Requirement already satisfied: altair<6.0,>=4.2.0 in c:\\users\\reeth\\miniconda3\\envs\\env\\lib\\site-packages (from gradio) (4.2.2)\n",
      "Requirement already satisfied: fastapi in c:\\users\\reeth\\miniconda3\\envs\\env\\lib\\site-packages (from gradio) (0.104.1)\n",
      "Requirement already satisfied: ffmpy in c:\\users\\reeth\\miniconda3\\envs\\env\\lib\\site-packages (from gradio) (0.3.1)\n",
      "Requirement already satisfied: gradio-client==0.7.0 in c:\\users\\reeth\\miniconda3\\envs\\env\\lib\\site-packages (from gradio) (0.7.0)\n",
      "Requirement already satisfied: httpx in c:\\users\\reeth\\miniconda3\\envs\\env\\lib\\site-packages (from gradio) (0.25.1)\n",
      "Requirement already satisfied: huggingface-hub>=0.14.0 in c:\\users\\reeth\\miniconda3\\envs\\env\\lib\\site-packages (from gradio) (0.19.1)\n",
      "Requirement already satisfied: importlib-resources<7.0,>=1.3 in c:\\users\\reeth\\miniconda3\\envs\\env\\lib\\site-packages (from gradio) (6.1.1)\n",
      "Requirement already satisfied: jinja2<4.0 in c:\\users\\reeth\\miniconda3\\envs\\env\\lib\\site-packages (from gradio) (2.11.3)\n",
      "Requirement already satisfied: markupsafe~=2.0 in c:\\users\\reeth\\miniconda3\\envs\\env\\lib\\site-packages (from gradio) (2.0.1)\n",
      "Requirement already satisfied: matplotlib~=3.0 in c:\\users\\reeth\\miniconda3\\envs\\env\\lib\\site-packages (from gradio) (3.8.0)\n",
      "Requirement already satisfied: numpy~=1.0 in c:\\users\\reeth\\miniconda3\\envs\\env\\lib\\site-packages (from gradio) (1.26.2)\n",
      "Requirement already satisfied: orjson~=3.0 in c:\\users\\reeth\\miniconda3\\envs\\env\\lib\\site-packages (from gradio) (3.9.10)\n",
      "Requirement already satisfied: packaging in c:\\users\\reeth\\miniconda3\\envs\\env\\lib\\site-packages (from gradio) (23.1)\n",
      "Requirement already satisfied: pandas<3.0,>=1.0 in c:\\users\\reeth\\miniconda3\\envs\\env\\lib\\site-packages (from gradio) (1.4.4)\n",
      "Requirement already satisfied: pillow<11.0,>=8.0 in c:\\users\\reeth\\miniconda3\\envs\\env\\lib\\site-packages (from gradio) (10.0.1)\n",
      "Requirement already satisfied: pydantic>=2.0 in c:\\users\\reeth\\miniconda3\\envs\\env\\lib\\site-packages (from gradio) (2.5.0)\n",
      "Requirement already satisfied: pydub in c:\\users\\reeth\\miniconda3\\envs\\env\\lib\\site-packages (from gradio) (0.25.1)\n",
      "Requirement already satisfied: python-multipart in c:\\users\\reeth\\miniconda3\\envs\\env\\lib\\site-packages (from gradio) (0.0.6)\n",
      "Requirement already satisfied: pyyaml<7.0,>=5.0 in c:\\users\\reeth\\miniconda3\\envs\\env\\lib\\site-packages (from gradio) (6.0.1)\n",
      "Requirement already satisfied: requests~=2.0 in c:\\users\\reeth\\miniconda3\\envs\\env\\lib\\site-packages (from gradio) (2.31.0)\n",
      "Requirement already satisfied: semantic-version~=2.0 in c:\\users\\reeth\\miniconda3\\envs\\env\\lib\\site-packages (from gradio) (2.10.0)\n",
      "Requirement already satisfied: tomlkit==0.12.0 in c:\\users\\reeth\\miniconda3\\envs\\env\\lib\\site-packages (from gradio) (0.12.0)\n",
      "Requirement already satisfied: typer<1.0,>=0.9 in c:\\users\\reeth\\miniconda3\\envs\\env\\lib\\site-packages (from typer[all]<1.0,>=0.9->gradio) (0.9.0)\n",
      "Requirement already satisfied: typing-extensions~=4.0 in c:\\users\\reeth\\miniconda3\\envs\\env\\lib\\site-packages (from gradio) (4.8.0)\n",
      "Requirement already satisfied: uvicorn>=0.14.0 in c:\\users\\reeth\\miniconda3\\envs\\env\\lib\\site-packages (from gradio) (0.24.0.post1)\n",
      "Requirement already satisfied: fsspec in c:\\users\\reeth\\miniconda3\\envs\\env\\lib\\site-packages (from gradio-client==0.7.0->gradio) (2023.10.0)\n",
      "Requirement already satisfied: websockets<12.0,>=10.0 in c:\\users\\reeth\\miniconda3\\envs\\env\\lib\\site-packages (from gradio-client==0.7.0->gradio) (11.0.3)\n",
      "Requirement already satisfied: entrypoints in c:\\users\\reeth\\miniconda3\\envs\\env\\lib\\site-packages (from altair<6.0,>=4.2.0->gradio) (0.4)\n",
      "Requirement already satisfied: jsonschema>=3.0 in c:\\users\\reeth\\miniconda3\\envs\\env\\lib\\site-packages (from altair<6.0,>=4.2.0->gradio) (4.19.2)\n",
      "Requirement already satisfied: toolz in c:\\users\\reeth\\miniconda3\\envs\\env\\lib\\site-packages (from altair<6.0,>=4.2.0->gradio) (0.12.0)\n",
      "Requirement already satisfied: filelock in c:\\users\\reeth\\miniconda3\\envs\\env\\lib\\site-packages (from huggingface-hub>=0.14.0->gradio) (3.13.1)\n",
      "Requirement already satisfied: tqdm>=4.42.1 in c:\\users\\reeth\\miniconda3\\envs\\env\\lib\\site-packages (from huggingface-hub>=0.14.0->gradio) (4.66.1)\n",
      "Requirement already satisfied: contourpy>=1.0.1 in c:\\users\\reeth\\miniconda3\\envs\\env\\lib\\site-packages (from matplotlib~=3.0->gradio) (1.0.5)\n",
      "Requirement already satisfied: cycler>=0.10 in c:\\users\\reeth\\miniconda3\\envs\\env\\lib\\site-packages (from matplotlib~=3.0->gradio) (0.11.0)\n",
      "Requirement already satisfied: fonttools>=4.22.0 in c:\\users\\reeth\\miniconda3\\envs\\env\\lib\\site-packages (from matplotlib~=3.0->gradio) (4.25.0)\n",
      "Requirement already satisfied: kiwisolver>=1.0.1 in c:\\users\\reeth\\miniconda3\\envs\\env\\lib\\site-packages (from matplotlib~=3.0->gradio) (1.4.4)\n",
      "Requirement already satisfied: pyparsing>=2.3.1 in c:\\users\\reeth\\miniconda3\\envs\\env\\lib\\site-packages (from matplotlib~=3.0->gradio) (2.4.7)\n",
      "Requirement already satisfied: python-dateutil>=2.7 in c:\\users\\reeth\\miniconda3\\envs\\env\\lib\\site-packages (from matplotlib~=3.0->gradio) (2.8.2)\n",
      "Requirement already satisfied: pytz>=2020.1 in c:\\users\\reeth\\miniconda3\\envs\\env\\lib\\site-packages (from pandas<3.0,>=1.0->gradio) (2023.3.post1)\n",
      "Requirement already satisfied: annotated-types>=0.4.0 in c:\\users\\reeth\\miniconda3\\envs\\env\\lib\\site-packages (from pydantic>=2.0->gradio) (0.6.0)\n",
      "Requirement already satisfied: pydantic-core==2.14.1 in c:\\users\\reeth\\miniconda3\\envs\\env\\lib\\site-packages (from pydantic>=2.0->gradio) (2.14.1)\n",
      "Requirement already satisfied: charset-normalizer<4,>=2 in c:\\users\\reeth\\miniconda3\\envs\\env\\lib\\site-packages (from requests~=2.0->gradio) (2.0.4)\n",
      "Requirement already satisfied: idna<4,>=2.5 in c:\\users\\reeth\\miniconda3\\envs\\env\\lib\\site-packages (from requests~=2.0->gradio) (3.4)\n",
      "Requirement already satisfied: urllib3<3,>=1.21.1 in c:\\users\\reeth\\miniconda3\\envs\\env\\lib\\site-packages (from requests~=2.0->gradio) (1.26.18)\n",
      "Requirement already satisfied: certifi>=2017.4.17 in c:\\users\\reeth\\miniconda3\\envs\\env\\lib\\site-packages (from requests~=2.0->gradio) (2023.7.22)\n",
      "Requirement already satisfied: click<9.0.0,>=7.1.1 in c:\\users\\reeth\\miniconda3\\envs\\env\\lib\\site-packages (from typer<1.0,>=0.9->typer[all]<1.0,>=0.9->gradio) (8.1.7)\n",
      "Requirement already satisfied: colorama<0.5.0,>=0.4.3 in c:\\users\\reeth\\miniconda3\\envs\\env\\lib\\site-packages (from typer[all]<1.0,>=0.9->gradio) (0.4.6)\n",
      "Requirement already satisfied: shellingham<2.0.0,>=1.3.0 in c:\\users\\reeth\\miniconda3\\envs\\env\\lib\\site-packages (from typer[all]<1.0,>=0.9->gradio) (1.5.4)\n",
      "Requirement already satisfied: rich<14.0.0,>=10.11.0 in c:\\users\\reeth\\miniconda3\\envs\\env\\lib\\site-packages (from typer[all]<1.0,>=0.9->gradio) (13.6.0)\n",
      "Requirement already satisfied: h11>=0.8 in c:\\users\\reeth\\miniconda3\\envs\\env\\lib\\site-packages (from uvicorn>=0.14.0->gradio) (0.14.0)\n",
      "Requirement already satisfied: anyio<4.0.0,>=3.7.1 in c:\\users\\reeth\\miniconda3\\envs\\env\\lib\\site-packages (from fastapi->gradio) (3.7.1)\n",
      "Requirement already satisfied: starlette<0.28.0,>=0.27.0 in c:\\users\\reeth\\miniconda3\\envs\\env\\lib\\site-packages (from fastapi->gradio) (0.27.0)\n",
      "Requirement already satisfied: httpcore in c:\\users\\reeth\\miniconda3\\envs\\env\\lib\\site-packages (from httpx->gradio) (1.0.2)\n",
      "Requirement already satisfied: sniffio in c:\\users\\reeth\\miniconda3\\envs\\env\\lib\\site-packages (from httpx->gradio) (1.2.0)\n",
      "Requirement already satisfied: exceptiongroup in c:\\users\\reeth\\miniconda3\\envs\\env\\lib\\site-packages (from anyio<4.0.0,>=3.7.1->fastapi->gradio) (1.0.4)\n",
      "Requirement already satisfied: attrs>=22.2.0 in c:\\users\\reeth\\miniconda3\\envs\\env\\lib\\site-packages (from jsonschema>=3.0->altair<6.0,>=4.2.0->gradio) (23.1.0)\n",
      "Requirement already satisfied: jsonschema-specifications>=2023.03.6 in c:\\users\\reeth\\miniconda3\\envs\\env\\lib\\site-packages (from jsonschema>=3.0->altair<6.0,>=4.2.0->gradio) (2023.7.1)\n",
      "Requirement already satisfied: referencing>=0.28.4 in c:\\users\\reeth\\miniconda3\\envs\\env\\lib\\site-packages (from jsonschema>=3.0->altair<6.0,>=4.2.0->gradio) (0.30.2)\n",
      "Requirement already satisfied: rpds-py>=0.7.1 in c:\\users\\reeth\\miniconda3\\envs\\env\\lib\\site-packages (from jsonschema>=3.0->altair<6.0,>=4.2.0->gradio) (0.10.6)\n",
      "Requirement already satisfied: six>=1.5 in c:\\users\\reeth\\miniconda3\\envs\\env\\lib\\site-packages (from python-dateutil>=2.7->matplotlib~=3.0->gradio) (1.16.0)\n",
      "Requirement already satisfied: markdown-it-py>=2.2.0 in c:\\users\\reeth\\miniconda3\\envs\\env\\lib\\site-packages (from rich<14.0.0,>=10.11.0->typer[all]<1.0,>=0.9->gradio) (3.0.0)\n",
      "Requirement already satisfied: pygments<3.0.0,>=2.13.0 in c:\\users\\reeth\\miniconda3\\envs\\env\\lib\\site-packages (from rich<14.0.0,>=10.11.0->typer[all]<1.0,>=0.9->gradio) (2.15.1)\n",
      "Requirement already satisfied: mdurl~=0.1 in c:\\users\\reeth\\miniconda3\\envs\\env\\lib\\site-packages (from markdown-it-py>=2.2.0->rich<14.0.0,>=10.11.0->typer[all]<1.0,>=0.9->gradio) (0.1.2)\n"
     ]
    }
   ],
   "source": [
    "!pip install -U gradio"
   ]
  },
  {
   "cell_type": "code",
   "execution_count": null,
   "id": "b96ca699",
   "metadata": {},
   "outputs": [
    {
     "name": "stdout",
     "output_type": "stream",
     "text": [
      "Connection closed.\n",
      "Connected. Call `.close()` to terminate connection gracefully.\n",
      "\n",
      "Logged in to project, explore it here https://c.app.hopsworks.ai:443/p/210071\n",
      "Connected. Call `.close()` to terminate connection gracefully.\n",
      "Connected. Call `.close()` to terminate connection gracefully.\n",
      "Model downloadedl artifact (0 dirs, 3 files)... DONE\n"
     ]
    },
    {
     "name": "stderr",
     "output_type": "stream",
     "text": [
      "DeprecationWarning: \n",
      "        on_event is deprecated, use lifespan event handlers instead.\n",
      "\n",
      "        Read more about it in the\n",
      "        [FastAPI docs for Lifespan Events](https://fastapi.tiangolo.com/advanced/events/).\n",
      "        \n",
      "DeprecationWarning: \n",
      "        on_event is deprecated, use lifespan event handlers instead.\n",
      "\n",
      "        Read more about it in the\n",
      "        [FastAPI docs for Lifespan Events](https://fastapi.tiangolo.com/advanced/events/).\n",
      "        \n"
     ]
    },
    {
     "name": "stdout",
     "output_type": "stream",
     "text": [
      "Running on local URL:  http://127.0.0.1:7860\n"
     ]
    },
    {
     "name": "stderr",
     "output_type": "stream",
     "text": [
      "DeprecationWarning: distutils Version classes are deprecated. Use packaging.version instead.\n"
     ]
    },
    {
     "name": "stdout",
     "output_type": "stream",
     "text": [
      "\n",
      "To create a public link, set `share=True` in `launch()`.\n"
     ]
    },
    {
     "data": {
      "text/html": [
       "<div><iframe src=\"http://127.0.0.1:7860/\" width=\"100%\" height=\"500\" allow=\"autoplay; camera; microphone; clipboard-read; clipboard-write;\" frameborder=\"0\" allowfullscreen></iframe></div>"
      ],
      "text/plain": [
       "<IPython.core.display.HTML object>"
      ]
     },
     "metadata": {},
     "output_type": "display_data"
    },
    {
     "name": "stdout",
     "output_type": "stream",
     "text": [
      "Calling function\n",
      "Predicting\n",
      "  sepal_length sepal_width petal_length petal_width\n",
      "0          2.5         1.5          2.5         1.5\n",
      "['Setosa']\n",
      "Calling function\n",
      "Predicting\n",
      "  sepal_length sepal_width petal_length petal_width\n",
      "0          2.0         1.0          2.0         1.0\n",
      "['Setosa']\n"
     ]
    }
   ],
   "source": [
    "import gradio as gr\n",
    "from PIL import Image\n",
    "import requests\n",
    "import hopsworks\n",
    "import joblib\n",
    "import pandas as pd\n",
    "\n",
    "project = hopsworks.login()\n",
    "fs = project.get_feature_store()\n",
    "\n",
    "\n",
    "mr = project.get_model_registry()\n",
    "model = mr.get_model(\"iris_model\", version=1)\n",
    "model_dir = model.download()\n",
    "model = joblib.load(model_dir + \"/iris_model.pkl\")\n",
    "print(\"Model downloaded\")\n",
    "\n",
    "def iris(sepal_length, sepal_width, petal_length, petal_width):\n",
    "    print(\"Calling function\")\n",
    "#     df = pd.DataFrame([[sepal_length],[sepal_width],[petal_length],[petal_width]], \n",
    "    df = pd.DataFrame([[sepal_length,sepal_width,petal_length,petal_width]], \n",
    "                      columns=['sepal_length','sepal_width','petal_length','petal_width'])\n",
    "    print(\"Predicting\")\n",
    "    print(df)\n",
    "    # 'res' is a list of predictions returned as the label.\n",
    "    res = model.predict(df) \n",
    "    # We add '[0]' to the result of the transformed 'res', because 'res' is a list, and we only want \n",
    "    # the first element.\n",
    "#     print(\"Res: {0}\").format(res)\n",
    "    print(res)\n",
    "    flower_url = \"https://raw.githubusercontent.com/featurestoreorg/serverless-ml-course/main/src/01-module/assets/\" + res[0] + \".png\"\n",
    "    img = Image.open(requests.get(flower_url, stream=True).raw)            \n",
    "    return img\n",
    "        \n",
    "demo = gr.Interface(\n",
    "    fn=iris,\n",
    "    title=\"Iris Flower Predictive Analytics\",\n",
    "    description=\"Experiment with sepal/petal lengths/widths to predict which flower it is.\",\n",
    "    allow_flagging=\"never\",\n",
    "    inputs=[\n",
    "        gr.Textbox(\"2.0\", label=\"sepal length (cm)\"),\n",
    "        gr.Textbox(\"1.0\", label=\"sepal width (cm)\"),\n",
    "        gr.Textbox(\"2.0\", label=\"petal length (cm)\"),\n",
    "        gr.Textbox(\"1.0\", label=\"petal width (cm)\"),\n",
    "        ],\n",
    "    outputs=gr.Image(type=\"pil\"))\n",
    "\n",
    "demo.launch(debug=True)\n"
   ]
  },
  {
   "cell_type": "code",
   "execution_count": 28,
   "id": "21ace896",
   "metadata": {},
   "outputs": [
    {
     "name": "stdout",
     "output_type": "stream",
     "text": [
      "Connection closed.\n",
      "Connected. Call `.close()` to terminate connection gracefully.\n",
      "\n",
      "Logged in to project, explore it here https://c.app.hopsworks.ai:443/p/210071\n",
      "Connected. Call `.close()` to terminate connection gracefully.\n"
     ]
    },
    {
     "data": {
      "application/vnd.jupyter.widget-view+json": {
       "model_id": "ed019e05669d4bc181cc55359b8b4961",
       "version_major": 2,
       "version_minor": 0
      },
      "text/plain": [
       "Downloading: 0.000%|          | 0/132570 elapsed<00:00 remaining<?"
      ]
     },
     "metadata": {},
     "output_type": "display_data"
    },
    {
     "data": {
      "application/vnd.jupyter.widget-view+json": {
       "model_id": "52206fb70d6543a0996de762f4fdcf7f",
       "version_major": 2,
       "version_minor": 0
      },
      "text/plain": [
       "Downloading: 0.000%|          | 0/132570 elapsed<00:00 remaining<?"
      ]
     },
     "metadata": {},
     "output_type": "display_data"
    },
    {
     "data": {
      "application/vnd.jupyter.widget-view+json": {
       "model_id": "d82a893a68f242d982b97cd84ca74c88",
       "version_major": 2,
       "version_minor": 0
      },
      "text/plain": [
       "Downloading: 0.000%|          | 0/14792 elapsed<00:00 remaining<?"
      ]
     },
     "metadata": {},
     "output_type": "display_data"
    },
    {
     "ename": "RestAPIError",
     "evalue": "Metadata operation error: (url: https://c.app.hopsworks.ai/hopsworks-api/api/project/210071/dataset/Resources%2Fimages%2Fconfusion_matrix.png). Server response: \nHTTP code: 400, HTTP reason: Bad Request, body: b'{\"errorCode\":110018,\"errorMsg\":\"Path not found\"}', error code: 110018, error msg: Path not found, user msg: ",
     "output_type": "error",
     "traceback": [
      "\u001b[1;31m---------------------------------------------------------------------------\u001b[0m",
      "\u001b[1;31mRestAPIError\u001b[0m                              Traceback (most recent call last)",
      "Cell \u001b[1;32mIn[28], line 13\u001b[0m\n\u001b[0;32m     11\u001b[0m dataset_api\u001b[38;5;241m.\u001b[39mdownload(\u001b[38;5;124m\"\u001b[39m\u001b[38;5;124mResources/images/actual_iris.png\u001b[39m\u001b[38;5;124m\"\u001b[39m, overwrite\u001b[38;5;241m=\u001b[39m\u001b[38;5;28;01mTrue\u001b[39;00m)\n\u001b[0;32m     12\u001b[0m dataset_api\u001b[38;5;241m.\u001b[39mdownload(\u001b[38;5;124m\"\u001b[39m\u001b[38;5;124mResources/images/df_recent.png\u001b[39m\u001b[38;5;124m\"\u001b[39m, overwrite\u001b[38;5;241m=\u001b[39m\u001b[38;5;28;01mTrue\u001b[39;00m)\n\u001b[1;32m---> 13\u001b[0m \u001b[43mdataset_api\u001b[49m\u001b[38;5;241;43m.\u001b[39;49m\u001b[43mdownload\u001b[49m\u001b[43m(\u001b[49m\u001b[38;5;124;43m\"\u001b[39;49m\u001b[38;5;124;43mResources/images/confusion_matrix.png\u001b[39;49m\u001b[38;5;124;43m\"\u001b[39;49m\u001b[43m,\u001b[49m\u001b[43m \u001b[49m\u001b[43moverwrite\u001b[49m\u001b[38;5;241;43m=\u001b[39;49m\u001b[38;5;28;43;01mTrue\u001b[39;49;00m\u001b[43m)\u001b[49m\n\u001b[0;32m     15\u001b[0m \u001b[38;5;28;01mwith\u001b[39;00m gr\u001b[38;5;241m.\u001b[39mBlocks() \u001b[38;5;28;01mas\u001b[39;00m demo:\n\u001b[0;32m     16\u001b[0m     \u001b[38;5;28;01mwith\u001b[39;00m gr\u001b[38;5;241m.\u001b[39mRow():\n",
      "File \u001b[1;32m~\\miniconda3\\envs\\env\\lib\\site-packages\\hopsworks\\core\\dataset_api.py:98\u001b[0m, in \u001b[0;36mDatasetApi.download\u001b[1;34m(self, path, local_path, overwrite)\u001b[0m\n\u001b[0;32m     91\u001b[0m     \u001b[38;5;28;01melse\u001b[39;00m:\n\u001b[0;32m     92\u001b[0m         \u001b[38;5;28;01mraise\u001b[39;00m \u001b[38;5;167;01mIOError\u001b[39;00m(\n\u001b[0;32m     93\u001b[0m             \u001b[38;5;124m\"\u001b[39m\u001b[38;5;132;01m{}\u001b[39;00m\u001b[38;5;124m already exists, set overwrite=True to overwrite it\u001b[39m\u001b[38;5;124m\"\u001b[39m\u001b[38;5;241m.\u001b[39mformat(\n\u001b[0;32m     94\u001b[0m                 local_path\n\u001b[0;32m     95\u001b[0m             )\n\u001b[0;32m     96\u001b[0m         )\n\u001b[1;32m---> 98\u001b[0m file_size \u001b[38;5;241m=\u001b[39m \u001b[38;5;28mint\u001b[39m(\u001b[38;5;28;43mself\u001b[39;49m\u001b[38;5;241;43m.\u001b[39;49m\u001b[43m_get\u001b[49m\u001b[43m(\u001b[49m\u001b[43mpath\u001b[49m\u001b[43m)\u001b[49m[\u001b[38;5;124m\"\u001b[39m\u001b[38;5;124mattributes\u001b[39m\u001b[38;5;124m\"\u001b[39m][\u001b[38;5;124m\"\u001b[39m\u001b[38;5;124msize\u001b[39m\u001b[38;5;124m\"\u001b[39m])\n\u001b[0;32m     99\u001b[0m \u001b[38;5;28;01mwith\u001b[39;00m _client\u001b[38;5;241m.\u001b[39m_send_request(\n\u001b[0;32m    100\u001b[0m     \u001b[38;5;124m\"\u001b[39m\u001b[38;5;124mGET\u001b[39m\u001b[38;5;124m\"\u001b[39m, path_params, query_params\u001b[38;5;241m=\u001b[39mquery_params, stream\u001b[38;5;241m=\u001b[39m\u001b[38;5;28;01mTrue\u001b[39;00m\n\u001b[0;32m    101\u001b[0m ) \u001b[38;5;28;01mas\u001b[39;00m response:\n\u001b[0;32m    102\u001b[0m     \u001b[38;5;28;01mwith\u001b[39;00m \u001b[38;5;28mopen\u001b[39m(local_path, \u001b[38;5;124m\"\u001b[39m\u001b[38;5;124mwb\u001b[39m\u001b[38;5;124m\"\u001b[39m) \u001b[38;5;28;01mas\u001b[39;00m f:\n",
      "File \u001b[1;32m~\\miniconda3\\envs\\env\\lib\\site-packages\\hopsworks\\core\\dataset_api.py:244\u001b[0m, in \u001b[0;36mDatasetApi._get\u001b[1;34m(self, path)\u001b[0m\n\u001b[0;32m    242\u001b[0m path_params \u001b[38;5;241m=\u001b[39m [\u001b[38;5;124m\"\u001b[39m\u001b[38;5;124mproject\u001b[39m\u001b[38;5;124m\"\u001b[39m, \u001b[38;5;28mself\u001b[39m\u001b[38;5;241m.\u001b[39m_project_id, \u001b[38;5;124m\"\u001b[39m\u001b[38;5;124mdataset\u001b[39m\u001b[38;5;124m\"\u001b[39m, path]\n\u001b[0;32m    243\u001b[0m headers \u001b[38;5;241m=\u001b[39m {\u001b[38;5;124m\"\u001b[39m\u001b[38;5;124mcontent-type\u001b[39m\u001b[38;5;124m\"\u001b[39m: \u001b[38;5;124m\"\u001b[39m\u001b[38;5;124mapplication/json\u001b[39m\u001b[38;5;124m\"\u001b[39m}\n\u001b[1;32m--> 244\u001b[0m \u001b[38;5;28;01mreturn\u001b[39;00m \u001b[43m_client\u001b[49m\u001b[38;5;241;43m.\u001b[39;49m\u001b[43m_send_request\u001b[49m\u001b[43m(\u001b[49m\u001b[38;5;124;43m\"\u001b[39;49m\u001b[38;5;124;43mGET\u001b[39;49m\u001b[38;5;124;43m\"\u001b[39;49m\u001b[43m,\u001b[49m\u001b[43m \u001b[49m\u001b[43mpath_params\u001b[49m\u001b[43m,\u001b[49m\u001b[43m \u001b[49m\u001b[43mheaders\u001b[49m\u001b[38;5;241;43m=\u001b[39;49m\u001b[43mheaders\u001b[49m\u001b[43m)\u001b[49m\n",
      "File \u001b[1;32m~\\miniconda3\\envs\\env\\lib\\site-packages\\hopsworks\\decorators.py:35\u001b[0m, in \u001b[0;36mconnected.<locals>.if_connected\u001b[1;34m(inst, *args, **kwargs)\u001b[0m\n\u001b[0;32m     33\u001b[0m \u001b[38;5;28;01mif\u001b[39;00m \u001b[38;5;129;01mnot\u001b[39;00m inst\u001b[38;5;241m.\u001b[39m_connected:\n\u001b[0;32m     34\u001b[0m     \u001b[38;5;28;01mraise\u001b[39;00m NoHopsworksConnectionError\n\u001b[1;32m---> 35\u001b[0m \u001b[38;5;28;01mreturn\u001b[39;00m fn(inst, \u001b[38;5;241m*\u001b[39margs, \u001b[38;5;241m*\u001b[39m\u001b[38;5;241m*\u001b[39mkwargs)\n",
      "File \u001b[1;32m~\\miniconda3\\envs\\env\\lib\\site-packages\\hopsworks\\client\\base.py:174\u001b[0m, in \u001b[0;36mClient._send_request\u001b[1;34m(self, method, path_params, query_params, headers, data, stream, files, with_base_path_params)\u001b[0m\n\u001b[0;32m    171\u001b[0m     response \u001b[38;5;241m=\u001b[39m \u001b[38;5;28mself\u001b[39m\u001b[38;5;241m.\u001b[39m_session\u001b[38;5;241m.\u001b[39msend(prepped, verify\u001b[38;5;241m=\u001b[39m\u001b[38;5;28mself\u001b[39m\u001b[38;5;241m.\u001b[39m_verify, stream\u001b[38;5;241m=\u001b[39mstream)\n\u001b[0;32m    173\u001b[0m \u001b[38;5;28;01mif\u001b[39;00m response\u001b[38;5;241m.\u001b[39mstatus_code \u001b[38;5;241m/\u001b[39m\u001b[38;5;241m/\u001b[39m \u001b[38;5;241m100\u001b[39m \u001b[38;5;241m!=\u001b[39m \u001b[38;5;241m2\u001b[39m:\n\u001b[1;32m--> 174\u001b[0m     \u001b[38;5;28;01mraise\u001b[39;00m exceptions\u001b[38;5;241m.\u001b[39mRestAPIError(url, response)\n\u001b[0;32m    176\u001b[0m \u001b[38;5;28;01mif\u001b[39;00m stream:\n\u001b[0;32m    177\u001b[0m     \u001b[38;5;28;01mreturn\u001b[39;00m response\n",
      "\u001b[1;31mRestAPIError\u001b[0m: Metadata operation error: (url: https://c.app.hopsworks.ai/hopsworks-api/api/project/210071/dataset/Resources%2Fimages%2Fconfusion_matrix.png). Server response: \nHTTP code: 400, HTTP reason: Bad Request, body: b'{\"errorCode\":110018,\"errorMsg\":\"Path not found\"}', error code: 110018, error msg: Path not found, user msg: "
     ]
    }
   ],
   "source": [
    "import gradio as gr\n",
    "from PIL import Image\n",
    "import hopsworks\n",
    "\n",
    "project = hopsworks.login()\n",
    "fs = project.get_feature_store()\n",
    "\n",
    "dataset_api = project.get_dataset_api()\n",
    "\n",
    "dataset_api.download(\"Resources/images/latest_iris.png\", overwrite=True)\n",
    "dataset_api.download(\"Resources/images/actual_iris.png\", overwrite=True)\n",
    "dataset_api.download(\"Resources/images/df_recent.png\", overwrite=True)\n",
    "dataset_api.download(\"Resources/images/confusion_matrix.png\", overwrite=True)\n",
    "\n",
    "with gr.Blocks() as demo:\n",
    "    with gr.Row():\n",
    "      with gr.Column():\n",
    "          gr.Label(\"Today's Predicted Image\")\n",
    "          input_img = gr.Image(\"latest_iris.png\", elem_id=\"predicted-img\")\n",
    "      with gr.Column():          \n",
    "          gr.Label(\"Today's Actual Image\")\n",
    "          input_img = gr.Image(\"actual_iris.png\", elem_id=\"actual-img\")        \n",
    "    with gr.Row():\n",
    "      with gr.Column():\n",
    "          gr.Label(\"Recent Prediction History\")\n",
    "          input_img = gr.Image(\"df_recent.png\", elem_id=\"recent-predictions\")\n",
    "      with gr.Column():          \n",
    "          gr.Label(\"Confusion Maxtrix with Historical Prediction Performance\")\n",
    "          input_img = gr.Image(\"confusion_matrix.png\", elem_id=\"confusion-matrix\")        \n",
    "\n",
    "demo.launch()"
   ]
  },
  {
   "cell_type": "code",
   "execution_count": null,
   "id": "863b21f3",
   "metadata": {},
   "outputs": [],
   "source": []
  }
 ],
 "metadata": {
  "kernelspec": {
   "display_name": "Python 3 (ipykernel)",
   "language": "python",
   "name": "python3"
  },
  "language_info": {
   "codemirror_mode": {
    "name": "ipython",
    "version": 3
   },
   "file_extension": ".py",
   "mimetype": "text/x-python",
   "name": "python",
   "nbconvert_exporter": "python",
   "pygments_lexer": "ipython3",
   "version": "3.10.13"
  }
 },
 "nbformat": 4,
 "nbformat_minor": 5
}
